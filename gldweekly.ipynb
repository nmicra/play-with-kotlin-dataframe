{
 "cells": [
  {
   "cell_type": "code",
   "execution_count": 1,
   "id": "668b2530-73ea-42e4-b138-8d8f02ca1879",
   "metadata": {},
   "outputs": [
    {
     "data": {
      "text/html": [
       "            <div id=\"kotlin_out_0\"/>\n",
       "            <script type=\"text/javascript\">\n",
       "                            if(!window.kotlinQueues) {\n",
       "                window.kotlinQueues = {};\n",
       "            }\n",
       "            if(!window.kotlinQueues[\"DataFrame\"]) {\n",
       "                var resQueue = [];\n",
       "                window.kotlinQueues[\"DataFrame\"] = resQueue;\n",
       "                window[\"call_DataFrame\"] = function(f) {\n",
       "                    resQueue.push(f);\n",
       "                }\n",
       "            }\n",
       "            (function (){\n",
       "                var modifiers = [(function(script) {\n",
       "    script.src = \"https://cdn.jsdelivr.net/gh/Kotlin/dataframe@012be928db1deacaafbab5c94b96a297d8272f12/src/main/resources/init.js\"\n",
       "    script.type = \"text/javascript\";\n",
       "})];\n",
       "                var e = document.getElementById(\"kotlin_out_0\");\n",
       "                modifiers.forEach(function (gen) {\n",
       "                    var script = document.createElement(\"script\");\n",
       "                    gen(script)\n",
       "                    script.addEventListener(\"load\", function() {\n",
       "                        window[\"call_DataFrame\"] = function(f) {f();};\n",
       "                        window.kotlinQueues[\"DataFrame\"].forEach(function(f) {f();});\n",
       "                        window.kotlinQueues[\"DataFrame\"] = [];\n",
       "                    }, false);\n",
       "                    script.addEventListener(\"error\", function() {\n",
       "                        window[\"call_DataFrame\"] = function(f) {};\n",
       "                        window.kotlinQueues[\"DataFrame\"] = [];\n",
       "                        var div = document.createElement(\"div\");\n",
       "                        div.style.color = 'darkred';\n",
       "                        div.textContent = 'Error loading resource DataFrame';\n",
       "                        document.getElementById(\"kotlin_out_0\").appendChild(div);\n",
       "                    }, false);\n",
       "                    \n",
       "                    e.appendChild(script);\n",
       "                });\n",
       "            })();\n",
       "            </script>"
      ]
     },
     "metadata": {},
     "output_type": "display_data"
    },
    {
     "data": {
      "text/html": [
       "                <style>\n",
       "                table.dataframe {\n",
       "    font-family: \"Helvetica Neue\", Helvetica, Arial, sans-serif;\n",
       "    font-size: 12px;\n",
       "}\n",
       "table.dataframe a {\n",
       "    cursor: pointer;\n",
       "    color: #296eaa;\n",
       "    text-decoration: none;\n",
       "}\n",
       "table.dataframe a:hover {\n",
       "    color: #1a466c;\n",
       "    text-decoration: underline;\n",
       "}\n",
       "table.dataframe tr:nth-child(odd) {\n",
       "    background: rgb(245, 245, 245);\n",
       "}\n",
       "table.dataframe tr:nth-child(even) {\n",
       "    background: #FFF\n",
       "}\n",
       "table.dataframe tr:hover {\n",
       "    background: rgba(66, 165, 245, 0.2);\n",
       "}\n",
       "th.complex {\n",
       "    background-color: white;\n",
       "    border: 1px solid #ffffff;\n",
       "}\n",
       "table.dataframe th {\n",
       "    background-color: white;\n",
       "    padding: 6px;\n",
       "    border: 1px solid transparent;\n",
       "    text-align: left;\n",
       "}\n",
       "\n",
       "table.dataframe td {\n",
       "    padding: 6px;\n",
       "    border: 1px solid transparent;\n",
       "    text-align: left;\n",
       "    vertical-align: top;\n",
       "}\n",
       "table.dataframe th.bottomBorder {\n",
       "    border-bottom-color: black;\n",
       "}\n",
       "table.dataframe {\n",
       "    border: none;\n",
       "    border-collapse: collapse;\n",
       "}\n",
       "table.dataframe .leftBorder {\n",
       "    border-left-color: #aaa;\n",
       "}\n",
       "table.dataframe .rightBorder {\n",
       "    border-right-color: #aaa;\n",
       "}\n",
       "table.dataframe .rightAlign {\n",
       "    text-align: right;\n",
       "}\n",
       "table.dataframe .expanderSvg {\n",
       "    width: 8px;\n",
       "    height: 8px;\n",
       "    margin-right: 3px;\n",
       "}\n",
       "table.dataframe .expander {\n",
       "    display: flex;\n",
       "    align-items: center;\n",
       "}\n",
       "\n",
       "                </style>"
      ]
     },
     "metadata": {},
     "output_type": "display_data"
    },
    {
     "data": {
      "text/html": [
       "                <style>\n",
       "                table.dataframe .null {\n",
       "    color: #b3b3cc;\n",
       "}\n",
       "table.dataframe .structural {\n",
       "    color: #737373;\n",
       "    font-weight: bold;\n",
       "}\n",
       "table.dataframe .numbers {\n",
       "    color: black;\n",
       "}\n",
       "table.dataframe .dataFrameCaption {\n",
       "    font-weight: bold;\n",
       "}\n",
       "table.dataframe td:hover > .formatted .structural {\n",
       "    color: black;\n",
       "}\n",
       "table.dataframe td:hover > .formatted .null {\n",
       "    color: black;\n",
       "}\n",
       "\n",
       "                </style>"
      ]
     },
     "metadata": {},
     "output_type": "display_data"
    }
   ],
   "source": [
    "%use dataframe"
   ]
  },
  {
   "cell_type": "code",
   "execution_count": 2,
   "id": "08714608-1ec8-4193-98aa-c1681a31ea77",
   "metadata": {},
   "outputs": [],
   "source": [
    "%trackExecution off"
   ]
  },
  {
   "cell_type": "code",
   "execution_count": 3,
   "id": "de3fbb04-9129-4e95-b177-9a7b0ab6f62f",
   "metadata": {},
   "outputs": [],
   "source": [
    "val df = DataFrame.read(\"glddb_public_gold_weekly.csv\")"
   ]
  },
  {
   "cell_type": "code",
   "execution_count": 4,
   "id": "57b19812-cc8a-475f-9035-2b67b8284b51",
   "metadata": {},
   "outputs": [
    {
     "data": {
      "text/html": [
       "        <html>\n",
       "        <head>\n",
       "            <style type=\"text/css\">\n",
       "                \n",
       "\n",
       "            </style>\n",
       "        </head>\n",
       "        <body>\n",
       "            <table class=\"dataframe\" id=\"df_-1811939328\"></table>\n",
       "\n",
       "<p>DataFrame [5 x 20]</p>\n",
       "        </body>\n",
       "        <script>\n",
       "            /*<!--*/\n",
       "call_DataFrame(function() { DataFrame.addTable({ cols: [{ name: \"<span title=\\\"id: String\\\">id</span>\", children: [], rightAlign: false, values: [\"9ed326ed-085e-4d35-bc77-fe62a0fc5e4a\",\"bf1d2066-32f0-4d5d-a506-afe0eebe9512\",\"6c5de689-3751-42db-badc-035fca3d23e0\",\"f02bf64a-a041-48e8-9ef3-bd08f43cce06\",\"2fe83e2d-6e39-4354-9aea-9dfd6f34e950\"] }, \n",
       "{ name: \"<span title=\\\"date: kotlinx.datetime.LocalDate\\\">date</span>\", children: [], rightAlign: false, values: [\"1986-03-24\",\"1986-03-31\",\"1986-04-07\",\"1986-04-14\",\"1986-04-21\"] }, \n",
       "{ name: \"<span title=\\\"weekNr: Int\\\">weekNr</span>\", children: [], rightAlign: true, values: [\"<span class=\\\"formatted\\\" title=\\\"\\\"><span class=\\\"numbers\\\">12</span></span>\",\"<span class=\\\"formatted\\\" title=\\\"\\\"><span class=\\\"numbers\\\">13</span></span>\",\"<span class=\\\"formatted\\\" title=\\\"\\\"><span class=\\\"numbers\\\">14</span></span>\",\"<span class=\\\"formatted\\\" title=\\\"\\\"><span class=\\\"numbers\\\">15</span></span>\",\"<span class=\\\"formatted\\\" title=\\\"\\\"><span class=\\\"numbers\\\">16</span></span>\"] }, \n",
       "{ name: \"<span title=\\\"year: Int\\\">year</span>\", children: [], rightAlign: true, values: [\"<span class=\\\"formatted\\\" title=\\\"\\\"><span class=\\\"numbers\\\">1986</span></span>\",\"<span class=\\\"formatted\\\" title=\\\"\\\"><span class=\\\"numbers\\\">1986</span></span>\",\"<span class=\\\"formatted\\\" title=\\\"\\\"><span class=\\\"numbers\\\">1986</span></span>\",\"<span class=\\\"formatted\\\" title=\\\"\\\"><span class=\\\"numbers\\\">1986</span></span>\",\"<span class=\\\"formatted\\\" title=\\\"\\\"><span class=\\\"numbers\\\">1986</span></span>\"] }, \n",
       "{ name: \"<span title=\\\"open: Double\\\">open</span>\", children: [], rightAlign: true, values: [\"<span class=\\\"formatted\\\" title=\\\"\\\"><span class=\\\"numbers\\\">0.875000</span></span>\",\"<span class=\\\"formatted\\\" title=\\\"\\\"><span class=\\\"numbers\\\">0.906250</span></span>\",\"<span class=\\\"formatted\\\" title=\\\"\\\"><span class=\\\"numbers\\\">0.906250</span></span>\",\"<span class=\\\"formatted\\\" title=\\\"\\\"><span class=\\\"numbers\\\">1.062500</span></span>\",\"<span class=\\\"formatted\\\" title=\\\"\\\"><span class=\\\"numbers\\\">1.078125</span></span>\"] }, \n",
       "{ name: \"<span title=\\\"high: Double\\\">high</span>\", children: [], rightAlign: true, values: [\"<span class=\\\"formatted\\\" title=\\\"\\\"><span class=\\\"numbers\\\">0.937500</span></span>\",\"<span class=\\\"formatted\\\" title=\\\"\\\"><span class=\\\"numbers\\\">0.937500</span></span>\",\"<span class=\\\"formatted\\\" title=\\\"\\\"><span class=\\\"numbers\\\">1.093750</span></span>\",\"<span class=\\\"formatted\\\" title=\\\"\\\"><span class=\\\"numbers\\\">1.140625</span></span>\",\"<span class=\\\"formatted\\\" title=\\\"\\\"><span class=\\\"numbers\\\">1.250000</span></span>\"] }, \n",
       "{ name: \"<span title=\\\"low: Double\\\">low</span>\", children: [], rightAlign: true, values: [\"<span class=\\\"formatted\\\" title=\\\"\\\"><span class=\\\"numbers\\\">0.859375</span></span>\",\"<span class=\\\"formatted\\\" title=\\\"\\\"><span class=\\\"numbers\\\">0.859375</span></span>\",\"<span class=\\\"formatted\\\" title=\\\"\\\"><span class=\\\"numbers\\\">0.890625</span></span>\",\"<span class=\\\"formatted\\\" title=\\\"\\\"><span class=\\\"numbers\\\">1.031250</span></span>\",\"<span class=\\\"formatted\\\" title=\\\"\\\"><span class=\\\"numbers\\\">1.031250</span></span>\"] }, \n",
       "{ name: \"<span title=\\\"close: Double\\\">close</span>\", children: [], rightAlign: true, values: [\"<span class=\\\"formatted\\\" title=\\\"\\\"><span class=\\\"numbers\\\">0.906250</span></span>\",\"<span class=\\\"formatted\\\" title=\\\"\\\"><span class=\\\"numbers\\\">0.906250</span></span>\",\"<span class=\\\"formatted\\\" title=\\\"\\\"><span class=\\\"numbers\\\">1.062500</span></span>\",\"<span class=\\\"formatted\\\" title=\\\"\\\"><span class=\\\"numbers\\\">1.078125</span></span>\",\"<span class=\\\"formatted\\\" title=\\\"\\\"><span class=\\\"numbers\\\">1.218750</span></span>\"] }, \n",
       "{ name: \"<span title=\\\"volume: Int\\\">volume</span>\", children: [], rightAlign: true, values: [\"<span class=\\\"formatted\\\" title=\\\"\\\"><span class=\\\"numbers\\\">4108800</span></span>\",\"<span class=\\\"formatted\\\" title=\\\"\\\"><span class=\\\"numbers\\\">2756800</span></span>\",\"<span class=\\\"formatted\\\" title=\\\"\\\"><span class=\\\"numbers\\\">4088800</span></span>\",\"<span class=\\\"formatted\\\" title=\\\"\\\"><span class=\\\"numbers\\\">3248800</span></span>\",\"<span class=\\\"formatted\\\" title=\\\"\\\"><span class=\\\"numbers\\\">5532000</span></span>\"] }, \n",
       "{ name: \"<span title=\\\"delta: Double\\\">delta</span>\", children: [], rightAlign: true, values: [\"<span class=\\\"formatted\\\" title=\\\"\\\"><span class=\\\"numbers\\\">3.571</span></span>\",\"<span class=\\\"formatted\\\" title=\\\"\\\"><span class=\\\"numbers\\\">0.000</span></span>\",\"<span class=\\\"formatted\\\" title=\\\"\\\"><span class=\\\"numbers\\\">17.241</span></span>\",\"<span class=\\\"formatted\\\" title=\\\"\\\"><span class=\\\"numbers\\\">1.471</span></span>\",\"<span class=\\\"formatted\\\" title=\\\"\\\"><span class=\\\"numbers\\\">13.043</span></span>\"] }, \n",
       "{ name: \"<span title=\\\"intraVolatility: Double\\\">intraVolatility</span>\", children: [], rightAlign: true, values: [\"<span class=\\\"formatted\\\" title=\\\"\\\"><span class=\\\"numbers\\\">0.078125</span></span>\",\"<span class=\\\"formatted\\\" title=\\\"\\\"><span class=\\\"numbers\\\">0.078125</span></span>\",\"<span class=\\\"formatted\\\" title=\\\"\\\"><span class=\\\"numbers\\\">0.203125</span></span>\",\"<span class=\\\"formatted\\\" title=\\\"\\\"><span class=\\\"numbers\\\">0.109375</span></span>\",\"<span class=\\\"formatted\\\" title=\\\"\\\"><span class=\\\"numbers\\\">0.218750</span></span>\"] }, \n",
       "{ name: \"<span title=\\\"scaledVolume: Double\\\">scaledVolume</span>\", children: [], rightAlign: true, values: [\"<span class=\\\"formatted\\\" title=\\\"\\\"><span class=\\\"numbers\\\">0.018</span></span>\",\"<span class=\\\"formatted\\\" title=\\\"\\\"><span class=\\\"numbers\\\">0.012</span></span>\",\"<span class=\\\"formatted\\\" title=\\\"\\\"><span class=\\\"numbers\\\">0.018</span></span>\",\"<span class=\\\"formatted\\\" title=\\\"\\\"><span class=\\\"numbers\\\">0.014</span></span>\",\"<span class=\\\"formatted\\\" title=\\\"\\\"><span class=\\\"numbers\\\">0.024</span></span>\"] }, \n",
       "{ name: \"<span title=\\\"scaledTrend: Double\\\">scaledTrend</span>\", children: [], rightAlign: true, values: [\"<span class=\\\"formatted\\\" title=\\\"\\\"><span class=\\\"numbers\\\">0.028</span></span>\",\"<span class=\\\"formatted\\\" title=\\\"\\\"><span class=\\\"numbers\\\">0.028</span></span>\",\"<span class=\\\"formatted\\\" title=\\\"\\\"><span class=\\\"numbers\\\">0.065</span></span>\",\"<span class=\\\"formatted\\\" title=\\\"\\\"><span class=\\\"numbers\\\">0.067</span></span>\",\"<span class=\\\"formatted\\\" title=\\\"\\\"><span class=\\\"numbers\\\">0.097</span></span>\"] }, \n",
       "{ name: \"<span title=\\\"trend: Double\\\">trend</span>\", children: [], rightAlign: true, values: [\"<span class=\\\"formatted\\\" title=\\\"\\\"><span class=\\\"numbers\\\">53434972.662</span></span>\",\"<span class=\\\"formatted\\\" title=\\\"\\\"><span class=\\\"numbers\\\">53434972.662</span></span>\",\"<span class=\\\"formatted\\\" title=\\\"\\\"><span class=\\\"numbers\\\">131222559.752</span></span>\",\"<span class=\\\"formatted\\\" title=\\\"\\\"><span class=\\\"numbers\\\">135720427.799</span></span>\",\"<span class=\\\"formatted\\\" title=\\\"\\\"><span class=\\\"numbers\\\">202645762.060</span></span>\"] }, \n",
       "{ name: \"<span title=\\\"momentum: Double\\\">momentum</span>\", children: [], rightAlign: true, values: [\"<span class=\\\"formatted\\\" title=\\\"\\\"><span class=\\\"numbers\\\">69.952</span></span>\",\"<span class=\\\"formatted\\\" title=\\\"\\\"><span class=\\\"numbers\\\">60.861</span></span>\",\"<span class=\\\"formatted\\\" title=\\\"\\\"><span class=\\\"numbers\\\">75.990</span></span>\",\"<span class=\\\"formatted\\\" title=\\\"\\\"><span class=\\\"numbers\\\">82.172</span></span>\",\"<span class=\\\"formatted\\\" title=\\\"\\\"><span class=\\\"numbers\\\">86.765</span></span>\"] }, \n",
       "{ name: \"<span title=\\\"stochastic: Double\\\">stochastic</span>\", children: [], rightAlign: true, values: [\"<span class=\\\"formatted\\\" title=\\\"\\\"><span class=\\\"numbers\\\">100.0</span></span>\",\"<span class=\\\"formatted\\\" title=\\\"\\\"><span class=\\\"numbers\\\">100.0</span></span>\",\"<span class=\\\"formatted\\\" title=\\\"\\\"><span class=\\\"numbers\\\">100.0</span></span>\",\"<span class=\\\"formatted\\\" title=\\\"\\\"><span class=\\\"numbers\\\">100.0</span></span>\",\"<span class=\\\"formatted\\\" title=\\\"\\\"><span class=\\\"numbers\\\">100.0</span></span>\"] }, \n",
       "{ name: \"<span title=\\\"bullishIndicators: String?\\\">bullishIndicators</span>\", children: [], rightAlign: false, values: [\"<span class=\\\"formatted\\\" title=\\\"\\\"><span class=\\\"null\\\">null</span></span>\",\"<span class=\\\"formatted\\\" title=\\\"\\\"><span class=\\\"null\\\">null</span></span>\",\"<span class=\\\"formatted\\\" title=\\\"\\\"><span class=\\\"null\\\">null</span></span>\",\"{BullishCandle}\",\"<span class=\\\"formatted\\\" title=\\\"\\\"><span class=\\\"null\\\">null</span></span>\"] }, \n",
       "{ name: \"<span title=\\\"bearishIndicators: String?\\\">bearishIndicators</span>\", children: [], rightAlign: false, values: [\"<span class=\\\"formatted\\\" title=\\\"\\\"><span class=\\\"null\\\">null</span></span>\",\"<span class=\\\"formatted\\\" title=\\\"\\\"><span class=\\\"null\\\">null</span></span>\",\"<span class=\\\"formatted\\\" title=\\\"\\\"><span class=\\\"null\\\">null</span></span>\",\"<span class=\\\"formatted\\\" title=\\\"\\\"><span class=\\\"null\\\">null</span></span>\",\"<span class=\\\"formatted\\\" title=\\\"\\\"><span class=\\\"null\\\">null</span></span>\"] }, \n",
       "{ name: \"<span title=\\\"neutralIndicators: String?\\\">neutralIndicators</span>\", children: [], rightAlign: false, values: [\"<span class=\\\"formatted\\\" title=\\\"\\\"><span class=\\\"null\\\">null</span></span>\",\"<span class=\\\"formatted\\\" title=\\\"\\\"><span class=\\\"null\\\">null</span></span>\",\"<span class=\\\"formatted\\\" title=\\\"\\\"><span class=\\\"null\\\">null</span></span>\",\"<span class=\\\"formatted\\\" title=\\\"\\\"><span class=\\\"null\\\">null</span></span>\",\"<span class=\\\"formatted\\\" title=\\\"\\\"><span class=\\\"null\\\">null</span></span>\"] }, \n",
       "{ name: \"<span title=\\\"5: Double\\\">5</span>\", children: [], rightAlign: true, values: [\"<span class=\\\"formatted\\\" title=\\\"\\\"><span class=\\\"numbers\\\">0.859</span></span>\",\"<span class=\\\"formatted\\\" title=\\\"\\\"><span class=\\\"numbers\\\">0.866</span></span>\",\"<span class=\\\"formatted\\\" title=\\\"\\\"><span class=\\\"numbers\\\">0.881</span></span>\",\"<span class=\\\"formatted\\\" title=\\\"\\\"><span class=\\\"numbers\\\">0.925</span></span>\",\"<span class=\\\"formatted\\\" title=\\\"\\\"><span class=\\\"numbers\\\">0.966</span></span>\"] }, \n",
       "{ name: \"<span title=\\\"7: Double\\\">7</span>\", children: [], rightAlign: true, values: [\"<span class=\\\"formatted\\\" title=\\\"\\\"><span class=\\\"numbers\\\">0.864</span></span>\",\"<span class=\\\"formatted\\\" title=\\\"\\\"><span class=\\\"numbers\\\">0.868</span></span>\",\"<span class=\\\"formatted\\\" title=\\\"\\\"><span class=\\\"numbers\\\">0.873</span></span>\",\"<span class=\\\"formatted\\\" title=\\\"\\\"><span class=\\\"numbers\\\">0.900</span></span>\",\"<span class=\\\"formatted\\\" title=\\\"\\\"><span class=\\\"numbers\\\">0.935</span></span>\"] }, \n",
       "{ name: \"<span title=\\\"movingAvg: DataRow\\\">movingAvg</span>\", children: [19, 20], rightAlign: false, values: [\"<span class=\\\"formatted\\\" title=\\\"5: 0.859\\n7: 0.864\\\"><span class=\\\"structural\\\">{ </span><span class=\\\"structural\\\">5: </span><span class=\\\"numbers\\\">0.9</span><span class=\\\"structural\\\">, </span><span class=\\\"structural\\\">7: </span><span class=\\\"numbers\\\">0.9</span><span class=\\\"structural\\\"> }</span></span>\",\"<span class=\\\"formatted\\\" title=\\\"5: 0.866\\n7: 0.868\\\"><span class=\\\"structural\\\">{ </span><span class=\\\"structural\\\">5: </span><span class=\\\"numbers\\\">0.9</span><span class=\\\"structural\\\">, </span><span class=\\\"structural\\\">7: </span><span class=\\\"numbers\\\">0.9</span><span class=\\\"structural\\\"> }</span></span>\",\"<span class=\\\"formatted\\\" title=\\\"5: 0.881\\n7: 0.873\\\"><span class=\\\"structural\\\">{ </span><span class=\\\"structural\\\">5: </span><span class=\\\"numbers\\\">0.9</span><span class=\\\"structural\\\">, </span><span class=\\\"structural\\\">7: </span><span class=\\\"numbers\\\">0.9</span><span class=\\\"structural\\\"> }</span></span>\",\"<span class=\\\"formatted\\\" title=\\\"5: 0.925\\n7: 0.9\\\"><span class=\\\"structural\\\">{ </span><span class=\\\"structural\\\">5: </span><span class=\\\"numbers\\\">0.9</span><span class=\\\"structural\\\">, </span><span class=\\\"structural\\\">7: </span><span class=\\\"numbers\\\">0.9</span><span class=\\\"structural\\\"> }</span></span>\",\"<span class=\\\"formatted\\\" title=\\\"5: 0.966\\n7: 0.935\\\"><span class=\\\"structural\\\">{ </span><span class=\\\"structural\\\">5: </span><span class=\\\"numbers\\\">1.0</span><span class=\\\"structural\\\">, </span><span class=\\\"structural\\\">7: </span><span class=\\\"numbers\\\">0.9</span><span class=\\\"structural\\\"> }</span></span>\"] }, \n",
       "{ name: \"<span title=\\\"additionalData: DataRow\\\">additionalData</span>\", children: [21], rightAlign: false, values: [\"<span class=\\\"formatted\\\" title=\\\"movingAvg: { 5:0.859000, 7:0.864000 }\\\"><span class=\\\"structural\\\">{ </span><span class=\\\"structural\\\">movingAvg: </span><span class=\\\"structural\\\">{ </span><span class=\\\"structural\\\">5: </span><span class=\\\"numbers\\\">0.9</span><span class=\\\"structural\\\">, </span><span class=\\\"structural\\\">7: </span><span class=\\\"numbers\\\">0.9</span><span class=\\\"structural\\\"> }</span><span class=\\\"structural\\\"> }</span></span>\",\"<span class=\\\"formatted\\\" title=\\\"movingAvg: { 5:0.866000, 7:0.868000 }\\\"><span class=\\\"structural\\\">{ </span><span class=\\\"structural\\\">movingAvg: </span><span class=\\\"structural\\\">{ </span><span class=\\\"structural\\\">5: </span><span class=\\\"numbers\\\">0.9</span><span class=\\\"structural\\\">, </span><span class=\\\"structural\\\">7: </span><span class=\\\"numbers\\\">0.9</span><span class=\\\"structural\\\"> }</span><span class=\\\"structural\\\"> }</span></span>\",\"<span class=\\\"formatted\\\" title=\\\"movingAvg: { 5:0.881000, 7:0.873000 }\\\"><span class=\\\"structural\\\">{ </span><span class=\\\"structural\\\">movingAvg: </span><span class=\\\"structural\\\">{ </span><span class=\\\"structural\\\">5: </span><span class=\\\"numbers\\\">0.9</span><span class=\\\"structural\\\">, </span><span class=\\\"structural\\\">7: </span><span class=\\\"numbers\\\">0.9</span><span class=\\\"structural\\\"> }</span><span class=\\\"structural\\\"> }</span></span>\",\"<span class=\\\"formatted\\\" title=\\\"movingAvg: { 5:0.925000, 7:0.900000 }\\\"><span class=\\\"structural\\\">{ </span><span class=\\\"structural\\\">movingAvg: </span><span class=\\\"structural\\\">{ </span><span class=\\\"structural\\\">5: </span><span class=\\\"numbers\\\">0.9</span><span class=\\\"structural\\\">, </span><span class=\\\"structural\\\">7: </span><span class=\\\"numbers\\\">0.9</span><span class=\\\"structural\\\"> }</span><span class=\\\"structural\\\"> }</span></span>\",\"<span class=\\\"formatted\\\" title=\\\"movingAvg: { 5:0.966000, 7:0.935000 }\\\"><span class=\\\"structural\\\">{ </span><span class=\\\"structural\\\">movingAvg: </span><span class=\\\"structural\\\">{ </span><span class=\\\"structural\\\">5: </span><span class=\\\"numbers\\\">1.0</span><span class=\\\"structural\\\">, </span><span class=\\\"structural\\\">7: </span><span class=\\\"numbers\\\">0.9</span><span class=\\\"structural\\\"> }</span><span class=\\\"structural\\\"> }</span></span>\"] }, \n",
       "], id: -1811939328, rootId: -1811939328 } ) });\n",
       "/*-->*/\n",
       "\n",
       "call_DataFrame(function() { DataFrame.renderTable(-1811939328) });\n",
       "\n",
       "\n",
       "        </script>\n",
       "        </html>"
      ]
     },
     "execution_count": 4,
     "metadata": {},
     "output_type": "execute_result"
    }
   ],
   "source": [
    "df.head()"
   ]
  },
  {
   "cell_type": "code",
   "execution_count": 5,
   "id": "a5f26ebd-67f3-4989-a886-8a81981aefd6",
   "metadata": {},
   "outputs": [
    {
     "data": {
      "text/html": [
       "        <html>\n",
       "        <head>\n",
       "            <style type=\"text/css\">\n",
       "                \n",
       "\n",
       "            </style>\n",
       "        </head>\n",
       "        <body>\n",
       "            <table class=\"dataframe\" id=\"df_-1811939327\"></table>\n",
       "\n",
       "<p>DataRow [20]</p>\n",
       "        </body>\n",
       "        <script>\n",
       "            /*<!--*/\n",
       "call_DataFrame(function() { DataFrame.addTable({ cols: [{ name: \"<span title=\\\"id: String\\\">id</span>\", children: [], rightAlign: false, values: [\"564810ce-b424-43b9-912b-7f67481eb1df\"] }, \n",
       "{ name: \"<span title=\\\"date: kotlinx.datetime.LocalDate\\\">date</span>\", children: [], rightAlign: false, values: [\"2022-02-28\"] }, \n",
       "{ name: \"<span title=\\\"weekNr: Int\\\">weekNr</span>\", children: [], rightAlign: true, values: [\"<span class=\\\"formatted\\\" title=\\\"\\\"><span class=\\\"numbers\\\">9</span></span>\"] }, \n",
       "{ name: \"<span title=\\\"year: Int\\\">year</span>\", children: [], rightAlign: true, values: [\"<span class=\\\"formatted\\\" title=\\\"\\\"><span class=\\\"numbers\\\">2022</span></span>\"] }, \n",
       "{ name: \"<span title=\\\"open: Double\\\">open</span>\", children: [], rightAlign: true, values: [\"<span class=\\\"formatted\\\" title=\\\"\\\"><span class=\\\"numbers\\\">22.879999</span></span>\"] }, \n",
       "{ name: \"<span title=\\\"high: Double\\\">high</span>\", children: [], rightAlign: true, values: [\"<span class=\\\"formatted\\\" title=\\\"\\\"><span class=\\\"numbers\\\">24.48</span></span>\"] }, \n",
       "{ name: \"<span title=\\\"low: Double\\\">low</span>\", children: [], rightAlign: true, values: [\"<span class=\\\"formatted\\\" title=\\\"\\\"><span class=\\\"numbers\\\">22.33</span></span>\"] }, \n",
       "{ name: \"<span title=\\\"close: Double\\\">close</span>\", children: [], rightAlign: true, values: [\"<span class=\\\"formatted\\\" title=\\\"\\\"><span class=\\\"numbers\\\">24.200001</span></span>\"] }, \n",
       "{ name: \"<span title=\\\"volume: Int\\\">volume</span>\", children: [], rightAlign: true, values: [\"<span class=\\\"formatted\\\" title=\\\"\\\"><span class=\\\"numbers\\\">138961700</span></span>\"] }, \n",
       "{ name: \"<span title=\\\"delta: Double\\\">delta</span>\", children: [], rightAlign: true, values: [\"<span class=\\\"formatted\\\" title=\\\"\\\"><span class=\\\"numbers\\\">7.27</span></span>\"] }, \n",
       "{ name: \"<span title=\\\"intraVolatility: Double\\\">intraVolatility</span>\", children: [], rightAlign: true, values: [\"<span class=\\\"formatted\\\" title=\\\"\\\"><span class=\\\"numbers\\\">2.150000</span></span>\"] }, \n",
       "{ name: \"<span title=\\\"scaledVolume: Double\\\">scaledVolume</span>\", children: [], rightAlign: true, values: [\"<span class=\\\"formatted\\\" title=\\\"\\\"><span class=\\\"numbers\\\">0.379</span></span>\"] }, \n",
       "{ name: \"<span title=\\\"scaledTrend: Double\\\">scaledTrend</span>\", children: [], rightAlign: true, values: [\"<span class=\\\"formatted\\\" title=\\\"\\\"><span class=\\\"numbers\\\">0.5</span></span>\"] }, \n",
       "{ name: \"<span title=\\\"trend: Double\\\">trend</span>\", children: [], rightAlign: true, values: [\"<span class=\\\"formatted\\\" title=\\\"\\\"><span class=\\\"numbers\\\">1881420010.091</span></span>\"] }, \n",
       "{ name: \"<span title=\\\"momentum: Double\\\">momentum</span>\", children: [], rightAlign: true, values: [\"<span class=\\\"formatted\\\" title=\\\"\\\"><span class=\\\"numbers\\\">59.547</span></span>\"] }, \n",
       "{ name: \"<span title=\\\"stochastic: Double\\\">stochastic</span>\", children: [], rightAlign: true, values: [\"<span class=\\\"formatted\\\" title=\\\"\\\"><span class=\\\"numbers\\\">100.0</span></span>\"] }, \n",
       "{ name: \"<span title=\\\"bullishIndicators: String\\\">bullishIndicators</span>\", children: [], rightAlign: false, values: [\"{BearishOutsideReversal}\"] }, \n",
       "{ name: \"<span title=\\\"bearishIndicators: String?\\\">bearishIndicators</span>\", children: [], rightAlign: false, values: [\"<span class=\\\"formatted\\\" title=\\\"\\\"><span class=\\\"null\\\">null</span></span>\"] }, \n",
       "{ name: \"<span title=\\\"neutralIndicators: String?\\\">neutralIndicators</span>\", children: [], rightAlign: false, values: [\"<span class=\\\"formatted\\\" title=\\\"\\\"><span class=\\\"null\\\">null</span></span>\"] }, \n",
       "{ name: \"<span title=\\\"5: Double\\\">5</span>\", children: [], rightAlign: true, values: [\"<span class=\\\"formatted\\\" title=\\\"\\\"><span class=\\\"numbers\\\">20.826</span></span>\"] }, \n",
       "{ name: \"<span title=\\\"7: Double\\\">7</span>\", children: [], rightAlign: true, values: [\"<span class=\\\"formatted\\\" title=\\\"\\\"><span class=\\\"numbers\\\">20.307</span></span>\"] }, \n",
       "{ name: \"<span title=\\\"movingAvg: DataRow\\\">movingAvg</span>\", children: [19, 20], rightAlign: false, values: [\"<span class=\\\"formatted\\\" title=\\\"5: 20.826\\n7: 20.307\\\"><span class=\\\"structural\\\">{ </span><span class=\\\"structural\\\">5: </span><span class=\\\"numbers\\\">20.8</span><span class=\\\"structural\\\">, </span><span class=\\\"structural\\\">7: </span><span class=\\\"numbers\\\">20.3</span><span class=\\\"structural\\\"> }</span></span>\"] }, \n",
       "{ name: \"<span title=\\\"additionalData: DataRow\\\">additionalData</span>\", children: [21], rightAlign: false, values: [\"<span class=\\\"formatted\\\" title=\\\"movingAvg: { 5:20.826000, 7:20.307000 }\\\"><span class=\\\"structural\\\">{ </span><span class=\\\"structural\\\">movingAvg: </span><span class=\\\"structural\\\">{ </span><span class=\\\"structural\\\">5: </span><span class=\\\"numbers\\\">20.8</span><span class=\\\"structural\\\">, </span><span class=\\\"structural\\\">7: </span><span class=\\\"numbers\\\">20.3</span><span class=\\\"structural\\\"> }</span><span class=\\\"structural\\\"> }</span></span>\"] }, \n",
       "], id: -1811939327, rootId: -1811939327 } ) });\n",
       "/*-->*/\n",
       "\n",
       "call_DataFrame(function() { DataFrame.renderTable(-1811939327) });\n",
       "\n",
       "\n",
       "        </script>\n",
       "        </html>"
      ]
     },
     "execution_count": 5,
     "metadata": {},
     "output_type": "execute_result"
    }
   ],
   "source": [
    "//df[0]\n",
    "df.last()"
   ]
  },
  {
   "cell_type": "code",
   "execution_count": 6,
   "id": "b82c2fca-9ee3-4d1a-b184-7555ab7cc3ef",
   "metadata": {},
   "outputs": [
    {
     "data": {
      "text/html": [
       "        <html>\n",
       "        <head>\n",
       "            <style type=\"text/css\">\n",
       "                \n",
       "\n",
       "            </style>\n",
       "        </head>\n",
       "        <body>\n",
       "            <table class=\"dataframe\" id=\"df_-1811939326\"></table>\n",
       "\n",
       "<p>DataFrame [6 x 20]</p>\n",
       "        </body>\n",
       "        <script>\n",
       "            /*<!--*/\n",
       "call_DataFrame(function() { DataFrame.addTable({ cols: [{ name: \"<span title=\\\"id: String\\\">id</span>\", children: [], rightAlign: false, values: [\"c751da94-57b3-48e7-a67c-b531557d1f66\",\"0b191a97-716b-408f-914e-23289b937826\",\"75e0c810-9a03-475d-8bd0-7454120c87b1\",\"c3807f4c-6874-4c7f-8a0a-8c8a46195612\",\"a9d88067-cd5d-4534-985b-9b347e184731\",\"770e4a46-b199-4e77-988a-b4e288f86a31\"] }, \n",
       "{ name: \"<span title=\\\"date: kotlinx.datetime.LocalDate\\\">date</span>\", children: [], rightAlign: false, values: [\"1986-04-28\",\"1986-05-05\",\"1986-05-12\",\"1986-05-19\",\"1986-05-27\",\"1986-06-02\"] }, \n",
       "{ name: \"<span title=\\\"weekNr: Int\\\">weekNr</span>\", children: [], rightAlign: true, values: [\"<span class=\\\"formatted\\\" title=\\\"\\\"><span class=\\\"numbers\\\">17</span></span>\",\"<span class=\\\"formatted\\\" title=\\\"\\\"><span class=\\\"numbers\\\">18</span></span>\",\"<span class=\\\"formatted\\\" title=\\\"\\\"><span class=\\\"numbers\\\">19</span></span>\",\"<span class=\\\"formatted\\\" title=\\\"\\\"><span class=\\\"numbers\\\">20</span></span>\",\"<span class=\\\"formatted\\\" title=\\\"\\\"><span class=\\\"numbers\\\">21</span></span>\",\"<span class=\\\"formatted\\\" title=\\\"\\\"><span class=\\\"numbers\\\">22</span></span>\"] }, \n",
       "{ name: \"<span title=\\\"year: Int\\\">year</span>\", children: [], rightAlign: true, values: [\"<span class=\\\"formatted\\\" title=\\\"\\\"><span class=\\\"numbers\\\">1986</span></span>\",\"<span class=\\\"formatted\\\" title=\\\"\\\"><span class=\\\"numbers\\\">1986</span></span>\",\"<span class=\\\"formatted\\\" title=\\\"\\\"><span class=\\\"numbers\\\">1986</span></span>\",\"<span class=\\\"formatted\\\" title=\\\"\\\"><span class=\\\"numbers\\\">1986</span></span>\",\"<span class=\\\"formatted\\\" title=\\\"\\\"><span class=\\\"numbers\\\">1986</span></span>\",\"<span class=\\\"formatted\\\" title=\\\"\\\"><span class=\\\"numbers\\\">1986</span></span>\"] }, \n",
       "{ name: \"<span title=\\\"open: Double\\\">open</span>\", children: [], rightAlign: true, values: [\"<span class=\\\"formatted\\\" title=\\\"\\\"><span class=\\\"numbers\\\">1.218750</span></span>\",\"<span class=\\\"formatted\\\" title=\\\"\\\"><span class=\\\"numbers\\\">1.218750</span></span>\",\"<span class=\\\"formatted\\\" title=\\\"\\\"><span class=\\\"numbers\\\">1.234375</span></span>\",\"<span class=\\\"formatted\\\" title=\\\"\\\"><span class=\\\"numbers\\\">1.203125</span></span>\",\"<span class=\\\"formatted\\\" title=\\\"\\\"><span class=\\\"numbers\\\">1.218750</span></span>\",\"<span class=\\\"formatted\\\" title=\\\"\\\"><span class=\\\"numbers\\\">1.234375</span></span>\"] }, \n",
       "{ name: \"<span title=\\\"high: Double\\\">high</span>\", children: [], rightAlign: true, values: [\"<span class=\\\"formatted\\\" title=\\\"\\\"><span class=\\\"numbers\\\">1.250000</span></span>\",\"<span class=\\\"formatted\\\" title=\\\"\\\"><span class=\\\"numbers\\\">1.250000</span></span>\",\"<span class=\\\"formatted\\\" title=\\\"\\\"><span class=\\\"numbers\\\">1.234375</span></span>\",\"<span class=\\\"formatted\\\" title=\\\"\\\"><span class=\\\"numbers\\\">1.234375</span></span>\",\"<span class=\\\"formatted\\\" title=\\\"\\\"><span class=\\\"numbers\\\">1.250000</span></span>\",\"<span class=\\\"formatted\\\" title=\\\"\\\"><span class=\\\"numbers\\\">1.281250</span></span>\"] }, \n",
       "{ name: \"<span title=\\\"low: Double\\\">low</span>\", children: [], rightAlign: true, values: [\"<span class=\\\"formatted\\\" title=\\\"\\\"><span class=\\\"numbers\\\">1.18750</span></span>\",\"<span class=\\\"formatted\\\" title=\\\"\\\"><span class=\\\"numbers\\\">1.18750</span></span>\",\"<span class=\\\"formatted\\\" title=\\\"\\\"><span class=\\\"numbers\\\">1.15625</span></span>\",\"<span class=\\\"formatted\\\" title=\\\"\\\"><span class=\\\"numbers\\\">1.15625</span></span>\",\"<span class=\\\"formatted\\\" title=\\\"\\\"><span class=\\\"numbers\\\">1.18750</span></span>\",\"<span class=\\\"formatted\\\" title=\\\"\\\"><span class=\\\"numbers\\\">1.21875</span></span>\"] }, \n",
       "{ name: \"<span title=\\\"close: Double\\\">close</span>\", children: [], rightAlign: true, values: [\"<span class=\\\"formatted\\\" title=\\\"\\\"><span class=\\\"numbers\\\">1.218750</span></span>\",\"<span class=\\\"formatted\\\" title=\\\"\\\"><span class=\\\"numbers\\\">1.234375</span></span>\",\"<span class=\\\"formatted\\\" title=\\\"\\\"><span class=\\\"numbers\\\">1.203125</span></span>\",\"<span class=\\\"formatted\\\" title=\\\"\\\"><span class=\\\"numbers\\\">1.218750</span></span>\",\"<span class=\\\"formatted\\\" title=\\\"\\\"><span class=\\\"numbers\\\">1.234375</span></span>\",\"<span class=\\\"formatted\\\" title=\\\"\\\"><span class=\\\"numbers\\\">1.250000</span></span>\"] }, \n",
       "{ name: \"<span title=\\\"volume: Int\\\">volume</span>\", children: [], rightAlign: true, values: [\"<span class=\\\"formatted\\\" title=\\\"\\\"><span class=\\\"numbers\\\">2300000</span></span>\",\"<span class=\\\"formatted\\\" title=\\\"\\\"><span class=\\\"numbers\\\">2300000</span></span>\",\"<span class=\\\"formatted\\\" title=\\\"\\\"><span class=\\\"numbers\\\">1352000</span></span>\",\"<span class=\\\"formatted\\\" title=\\\"\\\"><span class=\\\"numbers\\\">1272000</span></span>\",\"<span class=\\\"formatted\\\" title=\\\"\\\"><span class=\\\"numbers\\\">1185600</span></span>\",\"<span class=\\\"formatted\\\" title=\\\"\\\"><span class=\\\"numbers\\\">3199200</span></span>\"] }, \n",
       "{ name: \"<span title=\\\"delta: Double\\\">delta</span>\", children: [], rightAlign: true, values: [\"<span class=\\\"formatted\\\" title=\\\"\\\"><span class=\\\"numbers\\\">0.000</span></span>\",\"<span class=\\\"formatted\\\" title=\\\"\\\"><span class=\\\"numbers\\\">1.282</span></span>\",\"<span class=\\\"formatted\\\" title=\\\"\\\"><span class=\\\"numbers\\\">-2.532</span></span>\",\"<span class=\\\"formatted\\\" title=\\\"\\\"><span class=\\\"numbers\\\">1.299</span></span>\",\"<span class=\\\"formatted\\\" title=\\\"\\\"><span class=\\\"numbers\\\">1.282</span></span>\",\"<span class=\\\"formatted\\\" title=\\\"\\\"><span class=\\\"numbers\\\">1.266</span></span>\"] }, \n",
       "{ name: \"<span title=\\\"intraVolatility: Double\\\">intraVolatility</span>\", children: [], rightAlign: true, values: [\"<span class=\\\"formatted\\\" title=\\\"\\\"><span class=\\\"numbers\\\">0.062500</span></span>\",\"<span class=\\\"formatted\\\" title=\\\"\\\"><span class=\\\"numbers\\\">0.062500</span></span>\",\"<span class=\\\"formatted\\\" title=\\\"\\\"><span class=\\\"numbers\\\">0.078125</span></span>\",\"<span class=\\\"formatted\\\" title=\\\"\\\"><span class=\\\"numbers\\\">0.078125</span></span>\",\"<span class=\\\"formatted\\\" title=\\\"\\\"><span class=\\\"numbers\\\">0.062500</span></span>\",\"<span class=\\\"formatted\\\" title=\\\"\\\"><span class=\\\"numbers\\\">0.062500</span></span>\"] }, \n",
       "{ name: \"<span title=\\\"scaledVolume: Double\\\">scaledVolume</span>\", children: [], rightAlign: true, values: [\"<span class=\\\"formatted\\\" title=\\\"\\\"><span class=\\\"numbers\\\">0.010</span></span>\",\"<span class=\\\"formatted\\\" title=\\\"\\\"><span class=\\\"numbers\\\">0.010</span></span>\",\"<span class=\\\"formatted\\\" title=\\\"\\\"><span class=\\\"numbers\\\">0.006</span></span>\",\"<span class=\\\"formatted\\\" title=\\\"\\\"><span class=\\\"numbers\\\">0.006</span></span>\",\"<span class=\\\"formatted\\\" title=\\\"\\\"><span class=\\\"numbers\\\">0.005</span></span>\",\"<span class=\\\"formatted\\\" title=\\\"\\\"><span class=\\\"numbers\\\">0.014</span></span>\"] }, \n",
       "{ name: \"<span title=\\\"scaledTrend: Double\\\">scaledTrend</span>\", children: [], rightAlign: true, values: [\"<span class=\\\"formatted\\\" title=\\\"\\\"><span class=\\\"numbers\\\">0.097</span></span>\",\"<span class=\\\"formatted\\\" title=\\\"\\\"><span class=\\\"numbers\\\">0.098</span></span>\",\"<span class=\\\"formatted\\\" title=\\\"\\\"><span class=\\\"numbers\\\">0.097</span></span>\",\"<span class=\\\"formatted\\\" title=\\\"\\\"><span class=\\\"numbers\\\">0.098</span></span>\",\"<span class=\\\"formatted\\\" title=\\\"\\\"><span class=\\\"numbers\\\">0.098</span></span>\",\"<span class=\\\"formatted\\\" title=\\\"\\\"><span class=\\\"numbers\\\">0.100</span></span>\"] }, \n",
       "{ name: \"<span title=\\\"trend: Double\\\">trend</span>\", children: [], rightAlign: true, values: [\"<span class=\\\"formatted\\\" title=\\\"\\\"><span class=\\\"numbers\\\">202645762.060</span></span>\",\"<span class=\\\"formatted\\\" title=\\\"\\\"><span class=\\\"numbers\\\">205065126.163</span></span>\",\"<span class=\\\"formatted\\\" title=\\\"\\\"><span class=\\\"numbers\\\">202291848.998</span></span>\",\"<span class=\\\"formatted\\\" title=\\\"\\\"><span class=\\\"numbers\\\">203665212.530</span></span>\",\"<span class=\\\"formatted\\\" title=\\\"\\\"><span class=\\\"numbers\\\">204912342.130</span></span>\",\"<span class=\\\"formatted\\\" title=\\\"\\\"><span class=\\\"numbers\\\">208193506.444</span></span>\"] }, \n",
       "{ name: \"<span title=\\\"momentum: Double\\\">momentum</span>\", children: [], rightAlign: true, values: [\"<span class=\\\"formatted\\\" title=\\\"\\\"><span class=\\\"numbers\\\">83.585</span></span>\",\"<span class=\\\"formatted\\\" title=\\\"\\\"><span class=\\\"numbers\\\">83.866</span></span>\",\"<span class=\\\"formatted\\\" title=\\\"\\\"><span class=\\\"numbers\\\">95.541</span></span>\",\"<span class=\\\"formatted\\\" title=\\\"\\\"><span class=\\\"numbers\\\">91.555</span></span>\",\"<span class=\\\"formatted\\\" title=\\\"\\\"><span class=\\\"numbers\\\">91.076</span></span>\",\"<span class=\\\"formatted\\\" title=\\\"\\\"><span class=\\\"numbers\\\">87.179</span></span>\"] }, \n",
       "{ name: \"<span title=\\\"stochastic: Double\\\">stochastic</span>\", children: [], rightAlign: true, values: [\"<span class=\\\"formatted\\\" title=\\\"\\\"><span class=\\\"numbers\\\">100.000</span></span>\",\"<span class=\\\"formatted\\\" title=\\\"\\\"><span class=\\\"numbers\\\">100.000</span></span>\",\"<span class=\\\"formatted\\\" title=\\\"\\\"><span class=\\\"numbers\\\">92.308</span></span>\",\"<span class=\\\"formatted\\\" title=\\\"\\\"><span class=\\\"numbers\\\">96.154</span></span>\",\"<span class=\\\"formatted\\\" title=\\\"\\\"><span class=\\\"numbers\\\">100.000</span></span>\",\"<span class=\\\"formatted\\\" title=\\\"\\\"><span class=\\\"numbers\\\">100.000</span></span>\"] }, \n",
       "{ name: \"<span title=\\\"bullishIndicators: String?\\\">bullishIndicators</span>\", children: [], rightAlign: false, values: [\"<span class=\\\"formatted\\\" title=\\\"\\\"><span class=\\\"null\\\">null</span></span>\",\"{BullishCandle}\",\"<span class=\\\"formatted\\\" title=\\\"\\\"><span class=\\\"null\\\">null</span></span>\",\"{BearishOutsideReversal,BullishCandle}\",\"{BullishCandle}\",\"<span class=\\\"formatted\\\" title=\\\"\\\"><span class=\\\"null\\\">null</span></span>\"] }, \n",
       "{ name: \"<span title=\\\"bearishIndicators: String?\\\">bearishIndicators</span>\", children: [], rightAlign: false, values: [\"<span class=\\\"formatted\\\" title=\\\"\\\"><span class=\\\"null\\\">null</span></span>\",\"<span class=\\\"formatted\\\" title=\\\"\\\"><span class=\\\"null\\\">null</span></span>\",\"{BullishOutsideReversal}\",\"<span class=\\\"formatted\\\" title=\\\"\\\"><span class=\\\"null\\\">null</span></span>\",\"<span class=\\\"formatted\\\" title=\\\"\\\"><span class=\\\"null\\\">null</span></span>\",\"<span class=\\\"formatted\\\" title=\\\"\\\"><span class=\\\"null\\\">null</span></span>\"] }, \n",
       "{ name: \"<span title=\\\"neutralIndicators: String?\\\">neutralIndicators</span>\", children: [], rightAlign: false, values: [\"<span class=\\\"formatted\\\" title=\\\"\\\"><span class=\\\"null\\\">null</span></span>\",\"<span class=\\\"formatted\\\" title=\\\"\\\"><span class=\\\"null\\\">null</span></span>\",\"<span class=\\\"formatted\\\" title=\\\"\\\"><span class=\\\"null\\\">null</span></span>\",\"<span class=\\\"formatted\\\" title=\\\"\\\"><span class=\\\"null\\\">null</span></span>\",\"<span class=\\\"formatted\\\" title=\\\"\\\"><span class=\\\"null\\\">null</span></span>\",\"<span class=\\\"formatted\\\" title=\\\"\\\"><span class=\\\"null\\\">null</span></span>\"] }, \n",
       "{ name: \"<span title=\\\"5: Double\\\">5</span>\", children: [], rightAlign: true, values: [\"<span class=\\\"formatted\\\" title=\\\"\\\"><span class=\\\"numbers\\\">1.034</span></span>\",\"<span class=\\\"formatted\\\" title=\\\"\\\"><span class=\\\"numbers\\\">1.097</span></span>\",\"<span class=\\\"formatted\\\" title=\\\"\\\"><span class=\\\"numbers\\\">1.163</span></span>\",\"<span class=\\\"formatted\\\" title=\\\"\\\"><span class=\\\"numbers\\\">1.191</span></span>\",\"<span class=\\\"formatted\\\" title=\\\"\\\"><span class=\\\"numbers\\\">1.219</span></span>\",\"<span class=\\\"formatted\\\" title=\\\"\\\"><span class=\\\"numbers\\\">1.222</span></span>\"] }, \n",
       "{ name: \"<span title=\\\"7: Double\\\">7</span>\", children: [], rightAlign: true, values: [\"<span class=\\\"formatted\\\" title=\\\"\\\"><span class=\\\"numbers\\\">0.989</span></span>\",\"<span class=\\\"formatted\\\" title=\\\"\\\"><span class=\\\"numbers\\\">1.038</span></span>\",\"<span class=\\\"formatted\\\" title=\\\"\\\"><span class=\\\"numbers\\\">1.089</span></span>\",\"<span class=\\\"formatted\\\" title=\\\"\\\"><span class=\\\"numbers\\\">1.132</span></span>\",\"<span class=\\\"formatted\\\" title=\\\"\\\"><span class=\\\"numbers\\\">1.176</span></span>\",\"<span class=\\\"formatted\\\" title=\\\"\\\"><span class=\\\"numbers\\\">1.201</span></span>\"] }, \n",
       "{ name: \"<span title=\\\"movingAvg: DataRow\\\">movingAvg</span>\", children: [19, 20], rightAlign: false, values: [\"<span class=\\\"formatted\\\" title=\\\"5: 1.034\\n7: 0.989\\\"><span class=\\\"structural\\\">{ </span><span class=\\\"structural\\\">5: </span><span class=\\\"numbers\\\">1.0</span><span class=\\\"structural\\\">, </span><span class=\\\"structural\\\">7: </span><span class=\\\"numbers\\\">1.0</span><span class=\\\"structural\\\"> }</span></span>\",\"<span class=\\\"formatted\\\" title=\\\"5: 1.097\\n7: 1.038\\\"><span class=\\\"structural\\\">{ </span><span class=\\\"structural\\\">5: </span><span class=\\\"numbers\\\">1.1</span><span class=\\\"structural\\\">, </span><span class=\\\"structural\\\">7: </span><span class=\\\"numbers\\\">1.0</span><span class=\\\"structural\\\"> }</span></span>\",\"<span class=\\\"formatted\\\" title=\\\"5: 1.163\\n7: 1.089\\\"><span class=\\\"structural\\\">{ </span><span class=\\\"structural\\\">5: </span><span class=\\\"numbers\\\">1.2</span><span class=\\\"structural\\\">, </span><span class=\\\"structural\\\">7: </span><span class=\\\"numbers\\\">1.1</span><span class=\\\"structural\\\"> }</span></span>\",\"<span class=\\\"formatted\\\" title=\\\"5: 1.191\\n7: 1.132\\\"><span class=\\\"structural\\\">{ </span><span class=\\\"structural\\\">5: </span><span class=\\\"numbers\\\">1.2</span><span class=\\\"structural\\\">, </span><span class=\\\"structural\\\">7: </span><span class=\\\"numbers\\\">1.1</span><span class=\\\"structural\\\"> }</span></span>\",\"<span class=\\\"formatted\\\" title=\\\"5: 1.219\\n7: 1.176\\\"><span class=\\\"structural\\\">{ </span><span class=\\\"structural\\\">5: </span><span class=\\\"numbers\\\">1.2</span><span class=\\\"structural\\\">, </span><span class=\\\"structural\\\">7: </span><span class=\\\"numbers\\\">1.2</span><span class=\\\"structural\\\"> }</span></span>\",\"<span class=\\\"formatted\\\" title=\\\"5: 1.222\\n7: 1.201\\\"><span class=\\\"structural\\\">{ </span><span class=\\\"structural\\\">5: </span><span class=\\\"numbers\\\">1.2</span><span class=\\\"structural\\\">, </span><span class=\\\"structural\\\">7: </span><span class=\\\"numbers\\\">1.2</span><span class=\\\"structural\\\"> }</span></span>\"] }, \n",
       "{ name: \"<span title=\\\"additionalData: DataRow\\\">additionalData</span>\", children: [21], rightAlign: false, values: [\"<span class=\\\"formatted\\\" title=\\\"movingAvg: { 5:1.034000, 7:0.989000 }\\\"><span class=\\\"structural\\\">{ </span><span class=\\\"structural\\\">movingAvg: </span><span class=\\\"structural\\\">{ </span><span class=\\\"structural\\\">5: </span><span class=\\\"numbers\\\">1.0</span><span class=\\\"structural\\\">, </span><span class=\\\"structural\\\">7: </span><span class=\\\"numbers\\\">1.0</span><span class=\\\"structural\\\"> }</span><span class=\\\"structural\\\"> }</span></span>\",\"<span class=\\\"formatted\\\" title=\\\"movingAvg: { 5:1.097000, 7:1.038000 }\\\"><span class=\\\"structural\\\">{ </span><span class=\\\"structural\\\">movingAvg: </span><span class=\\\"structural\\\">{ </span><span class=\\\"structural\\\">5: </span><span class=\\\"numbers\\\">1.1</span><span class=\\\"structural\\\">, </span><span class=\\\"structural\\\">7: </span><span class=\\\"numbers\\\">1.0</span><span class=\\\"structural\\\"> }</span><span class=\\\"structural\\\"> }</span></span>\",\"<span class=\\\"formatted\\\" title=\\\"movingAvg: { 5:1.163000, 7:1.089000 }\\\"><span class=\\\"structural\\\">{ </span><span class=\\\"structural\\\">movingAvg: </span><span class=\\\"structural\\\">{ </span><span class=\\\"structural\\\">5: </span><span class=\\\"numbers\\\">1.2</span><span class=\\\"structural\\\">, </span><span class=\\\"structural\\\">7: </span><span class=\\\"numbers\\\">1.1</span><span class=\\\"structural\\\"> }</span><span class=\\\"structural\\\"> }</span></span>\",\"<span class=\\\"formatted\\\" title=\\\"movingAvg: { 5:1.191000, 7:1.132000 }\\\"><span class=\\\"structural\\\">{ </span><span class=\\\"structural\\\">movingAvg: </span><span class=\\\"structural\\\">{ </span><span class=\\\"structural\\\">5: </span><span class=\\\"numbers\\\">1.2</span><span class=\\\"structural\\\">, </span><span class=\\\"structural\\\">7: </span><span class=\\\"numbers\\\">1.1</span><span class=\\\"structural\\\"> }</span><span class=\\\"structural\\\"> }</span></span>\",\"<span class=\\\"formatted\\\" title=\\\"movingAvg: { 5:1.219000, 7:1.176000 }\\\"><span class=\\\"structural\\\">{ </span><span class=\\\"structural\\\">movingAvg: </span><span class=\\\"structural\\\">{ </span><span class=\\\"structural\\\">5: </span><span class=\\\"numbers\\\">1.2</span><span class=\\\"structural\\\">, </span><span class=\\\"structural\\\">7: </span><span class=\\\"numbers\\\">1.2</span><span class=\\\"structural\\\"> }</span><span class=\\\"structural\\\"> }</span></span>\",\"<span class=\\\"formatted\\\" title=\\\"movingAvg: { 5:1.222000, 7:1.201000 }\\\"><span class=\\\"structural\\\">{ </span><span class=\\\"structural\\\">movingAvg: </span><span class=\\\"structural\\\">{ </span><span class=\\\"structural\\\">5: </span><span class=\\\"numbers\\\">1.2</span><span class=\\\"structural\\\">, </span><span class=\\\"structural\\\">7: </span><span class=\\\"numbers\\\">1.2</span><span class=\\\"structural\\\"> }</span><span class=\\\"structural\\\"> }</span></span>\"] }, \n",
       "], id: -1811939326, rootId: -1811939326 } ) });\n",
       "/*-->*/\n",
       "\n",
       "call_DataFrame(function() { DataFrame.renderTable(-1811939326) });\n",
       "\n",
       "\n",
       "        </script>\n",
       "        </html>"
      ]
     },
     "execution_count": 6,
     "metadata": {},
     "output_type": "execute_result"
    }
   ],
   "source": [
    "df[5..10]"
   ]
  },
  {
   "cell_type": "code",
   "execution_count": 7,
   "id": "c666f307-fed0-41e9-b517-a0fc5e7d1022",
   "metadata": {},
   "outputs": [
    {
     "data": {
      "text/plain": [
       "id: String\n",
       "date: kotlinx.datetime.LocalDate\n",
       "weekNr: Int\n",
       "year: Int\n",
       "open: Double\n",
       "high: Double\n",
       "low: Double\n",
       "close: Double\n",
       "volume: Int\n",
       "delta: Double\n",
       "intraVolatility: Double\n",
       "scaledVolume: Double\n",
       "scaledTrend: Double\n",
       "trend: Double\n",
       "momentum: Double\n",
       "stochastic: Double\n",
       "bullishIndicators: String?\n",
       "bearishIndicators: String?\n",
       "neutralIndicators: String?\n",
       "additionalData:\n",
       "    movingAvg:\n",
       "        5: Double\n",
       "        7: Double\n"
      ]
     },
     "execution_count": 7,
     "metadata": {},
     "output_type": "execute_result"
    }
   ],
   "source": [
    "df.schema()"
   ]
  },
  {
   "cell_type": "code",
   "execution_count": 8,
   "id": "860c3bf8-f4b6-4536-8699-c2ec718ac675",
   "metadata": {},
   "outputs": [
    {
     "data": {
      "text/plain": [
       "0.90625"
      ]
     },
     "execution_count": 8,
     "metadata": {},
     "output_type": "execute_result"
    }
   ],
   "source": [
    "df[0].close"
   ]
  },
  {
   "cell_type": "code",
   "execution_count": 9,
   "id": "7504ce86-c998-410f-8f8a-64bc47fca462",
   "metadata": {},
   "outputs": [
    {
     "data": {
      "text/html": [
       "        <html>\n",
       "        <head>\n",
       "            <style type=\"text/css\">\n",
       "                \n",
       "\n",
       "            </style>\n",
       "        </head>\n",
       "        <body>\n",
       "            <table class=\"dataframe\" id=\"df_-1811939325\"></table>\n",
       "\n",
       "<p>DataRow [2]</p>\n",
       "        </body>\n",
       "        <script>\n",
       "            /*<!--*/\n",
       "call_DataFrame(function() { DataFrame.addTable({ cols: [{ name: \"<span title=\\\"5: Double\\\">5</span>\", children: [], rightAlign: true, values: [\"<span class=\\\"formatted\\\" title=\\\"\\\"><span class=\\\"numbers\\\">0.859</span></span>\"] }, \n",
       "{ name: \"<span title=\\\"7: Double\\\">7</span>\", children: [], rightAlign: true, values: [\"<span class=\\\"formatted\\\" title=\\\"\\\"><span class=\\\"numbers\\\">0.864</span></span>\"] }, \n",
       "], id: -1811939325, rootId: -1811939325 } ) });\n",
       "/*-->*/\n",
       "\n",
       "call_DataFrame(function() { DataFrame.renderTable(-1811939325) });\n",
       "\n",
       "\n",
       "        </script>\n",
       "        </html>"
      ]
     },
     "execution_count": 9,
     "metadata": {},
     "output_type": "execute_result"
    }
   ],
   "source": [
    "df[0].additionalData.movingAvg"
   ]
  },
  {
   "cell_type": "code",
   "execution_count": 10,
   "id": "c0289da8-d685-4406-8068-967827627a10",
   "metadata": {},
   "outputs": [
    {
     "data": {
      "text/plain": [
       "0.859"
      ]
     },
     "execution_count": 10,
     "metadata": {},
     "output_type": "execute_result"
    }
   ],
   "source": [
    "df[0].additionalData.movingAvg[\"5\"]"
   ]
  },
  {
   "cell_type": "raw",
   "id": "36feb73a-06a1-4652-b2a5-33e4fc1f851e",
   "metadata": {},
   "source": []
  },
  {
   "cell_type": "code",
   "execution_count": 11,
   "id": "ba416661-0de4-4196-bf7c-7910a930e6e2",
   "metadata": {},
   "outputs": [
    {
     "data": {
      "text/plain": [
       "[id, date, weekNr, year, open, high, low, close, volume, delta, intraVolatility, scaledVolume, scaledTrend, trend, momentum, stochastic, bullishIndicators, bearishIndicators, neutralIndicators, additionalData]"
      ]
     },
     "execution_count": 11,
     "metadata": {},
     "output_type": "execute_result"
    }
   ],
   "source": [
    "df.columnNames() // columnTypes()"
   ]
  },
  {
   "cell_type": "code",
   "execution_count": 12,
   "id": "7e195955-6df7-47d7-a564-9a2f579f9c1b",
   "metadata": {},
   "outputs": [
    {
     "data": {
      "text/plain": [
       "1876"
      ]
     },
     "execution_count": 12,
     "metadata": {},
     "output_type": "execute_result"
    }
   ],
   "source": [
    "df.rowsCount()"
   ]
  },
  {
   "cell_type": "code",
   "execution_count": 13,
   "id": "6ee5a062-84a4-4625-b7ba-d364725ba163",
   "metadata": {},
   "outputs": [
    {
     "data": {
      "text/html": [
       "        <html>\n",
       "        <head>\n",
       "            <style type=\"text/css\">\n",
       "                \n",
       "\n",
       "            </style>\n",
       "        </head>\n",
       "        <body>\n",
       "            <table class=\"dataframe\" id=\"df_-1811939324\"></table>\n",
       "\n",
       "<p>... showing only top 20 of 21 rows</p><p>DataFrame [21 x 13]</p>\n",
       "        </body>\n",
       "        <script>\n",
       "            /*<!--*/\n",
       "call_DataFrame(function() { DataFrame.addTable({ cols: [{ name: \"<span title=\\\"name: String\\\">name</span>\", children: [], rightAlign: false, values: [\"id\",\"date\",\"weekNr\",\"year\",\"open\",\"high\",\"low\",\"close\",\"volume\",\"delta\",\"intraVolatility\",\"scaledVolume\",\"scaledTrend\",\"trend\",\"momentum\",\"stochastic\",\"bullishIndicators\",\"bearishIndicators\",\"neutralIndicators\",\"5\"] }, \n",
       "{ name: \"<span title=\\\"path: ColumnPath\\\">path</span>\", children: [], rightAlign: false, values: [\"<span class=\\\"formatted\\\" title=\\\"id\\\"><span class=\\\"structural\\\">[</span>id<span class=\\\"structural\\\">]</span></span>\",\"<span class=\\\"formatted\\\" title=\\\"date\\\"><span class=\\\"structural\\\">[</span>date<span class=\\\"structural\\\">]</span></span>\",\"<span class=\\\"formatted\\\" title=\\\"weekNr\\\"><span class=\\\"structural\\\">[</span>weekNr<span class=\\\"structural\\\">]</span></span>\",\"<span class=\\\"formatted\\\" title=\\\"year\\\"><span class=\\\"structural\\\">[</span>year<span class=\\\"structural\\\">]</span></span>\",\"<span class=\\\"formatted\\\" title=\\\"open\\\"><span class=\\\"structural\\\">[</span>open<span class=\\\"structural\\\">]</span></span>\",\"<span class=\\\"formatted\\\" title=\\\"high\\\"><span class=\\\"structural\\\">[</span>high<span class=\\\"structural\\\">]</span></span>\",\"<span class=\\\"formatted\\\" title=\\\"low\\\"><span class=\\\"structural\\\">[</span>low<span class=\\\"structural\\\">]</span></span>\",\"<span class=\\\"formatted\\\" title=\\\"close\\\"><span class=\\\"structural\\\">[</span>close<span class=\\\"structural\\\">]</span></span>\",\"<span class=\\\"formatted\\\" title=\\\"volume\\\"><span class=\\\"structural\\\">[</span>volume<span class=\\\"structural\\\">]</span></span>\",\"<span class=\\\"formatted\\\" title=\\\"delta\\\"><span class=\\\"structural\\\">[</span>delta<span class=\\\"structural\\\">]</span></span>\",\"<span class=\\\"formatted\\\" title=\\\"intraVolatility\\\"><span class=\\\"structural\\\">[</span>intraVolatility<span class=\\\"structural\\\">]</span></span>\",\"<span class=\\\"formatted\\\" title=\\\"scaledVolume\\\"><span class=\\\"structural\\\">[</span>scaledVolume<span class=\\\"structural\\\">]</span></span>\",\"<span class=\\\"formatted\\\" title=\\\"scaledTrend\\\"><span class=\\\"structural\\\">[</span>scaledTrend<span class=\\\"structural\\\">]</span></span>\",\"<span class=\\\"formatted\\\" title=\\\"trend\\\"><span class=\\\"structural\\\">[</span>trend<span class=\\\"structural\\\">]</span></span>\",\"<span class=\\\"formatted\\\" title=\\\"momentum\\\"><span class=\\\"structural\\\">[</span>momentum<span class=\\\"structural\\\">]</span></span>\",\"<span class=\\\"formatted\\\" title=\\\"stochastic\\\"><span class=\\\"structural\\\">[</span>stochastic<span class=\\\"structural\\\">]</span></span>\",\"<span class=\\\"formatted\\\" title=\\\"bullishIndicators\\\"><span class=\\\"structural\\\">[</span>bullishIndicators<span class=\\\"structural\\\">]</span></span>\",\"<span class=\\\"formatted\\\" title=\\\"bearishIndicators\\\"><span class=\\\"structural\\\">[</span>bearishIndicators<span class=\\\"structural\\\">]</span></span>\",\"<span class=\\\"formatted\\\" title=\\\"neutralIndicators\\\"><span class=\\\"structural\\\">[</span>neutralIndicators<span class=\\\"structural\\\">]</span></span>\",\"<span class=\\\"formatted\\\" title=\\\"additionalData\\nmovingAvg\\n5\\\"><span class=\\\"structural\\\">[</span>additionalData<span class=\\\"structural\\\">, </span>movingAvg<span class=\\\"structural\\\">, </span>5<span class=\\\"structural\\\">]</span></span>\"] }, \n",
       "{ name: \"<span title=\\\"type: Any\\\">type</span>\", children: [], rightAlign: false, values: [\"String\",\"LocalDate\",\"Int\",\"Int\",\"Double\",\"Double\",\"Double\",\"Double\",\"Int\",\"Double\",\"Double\",\"Double\",\"Double\",\"Double\",\"Double\",\"Double\",\"String\",\"String\",\"String\",\"Double\"] }, \n",
       "{ name: \"<span title=\\\"count: Int\\\">count</span>\", children: [], rightAlign: true, values: [\"<span class=\\\"formatted\\\" title=\\\"\\\"><span class=\\\"numbers\\\">1876</span></span>\",\"<span class=\\\"formatted\\\" title=\\\"\\\"><span class=\\\"numbers\\\">1876</span></span>\",\"<span class=\\\"formatted\\\" title=\\\"\\\"><span class=\\\"numbers\\\">1876</span></span>\",\"<span class=\\\"formatted\\\" title=\\\"\\\"><span class=\\\"numbers\\\">1876</span></span>\",\"<span class=\\\"formatted\\\" title=\\\"\\\"><span class=\\\"numbers\\\">1876</span></span>\",\"<span class=\\\"formatted\\\" title=\\\"\\\"><span class=\\\"numbers\\\">1876</span></span>\",\"<span class=\\\"formatted\\\" title=\\\"\\\"><span class=\\\"numbers\\\">1876</span></span>\",\"<span class=\\\"formatted\\\" title=\\\"\\\"><span class=\\\"numbers\\\">1876</span></span>\",\"<span class=\\\"formatted\\\" title=\\\"\\\"><span class=\\\"numbers\\\">1876</span></span>\",\"<span class=\\\"formatted\\\" title=\\\"\\\"><span class=\\\"numbers\\\">1876</span></span>\",\"<span class=\\\"formatted\\\" title=\\\"\\\"><span class=\\\"numbers\\\">1876</span></span>\",\"<span class=\\\"formatted\\\" title=\\\"\\\"><span class=\\\"numbers\\\">1876</span></span>\",\"<span class=\\\"formatted\\\" title=\\\"\\\"><span class=\\\"numbers\\\">1876</span></span>\",\"<span class=\\\"formatted\\\" title=\\\"\\\"><span class=\\\"numbers\\\">1876</span></span>\",\"<span class=\\\"formatted\\\" title=\\\"\\\"><span class=\\\"numbers\\\">1876</span></span>\",\"<span class=\\\"formatted\\\" title=\\\"\\\"><span class=\\\"numbers\\\">1876</span></span>\",\"<span class=\\\"formatted\\\" title=\\\"\\\"><span class=\\\"numbers\\\">1876</span></span>\",\"<span class=\\\"formatted\\\" title=\\\"\\\"><span class=\\\"numbers\\\">1876</span></span>\",\"<span class=\\\"formatted\\\" title=\\\"\\\"><span class=\\\"numbers\\\">1876</span></span>\",\"<span class=\\\"formatted\\\" title=\\\"\\\"><span class=\\\"numbers\\\">1876</span></span>\"] }, \n",
       "{ name: \"<span title=\\\"unique: Int\\\">unique</span>\", children: [], rightAlign: true, values: [\"<span class=\\\"formatted\\\" title=\\\"\\\"><span class=\\\"numbers\\\">1876</span></span>\",\"<span class=\\\"formatted\\\" title=\\\"\\\"><span class=\\\"numbers\\\">1876</span></span>\",\"<span class=\\\"formatted\\\" title=\\\"\\\"><span class=\\\"numbers\\\">53</span></span>\",\"<span class=\\\"formatted\\\" title=\\\"\\\"><span class=\\\"numbers\\\">37</span></span>\",\"<span class=\\\"formatted\\\" title=\\\"\\\"><span class=\\\"numbers\\\">1211</span></span>\",\"<span class=\\\"formatted\\\" title=\\\"\\\"><span class=\\\"numbers\\\">1269</span></span>\",\"<span class=\\\"formatted\\\" title=\\\"\\\"><span class=\\\"numbers\\\">1267</span></span>\",\"<span class=\\\"formatted\\\" title=\\\"\\\"><span class=\\\"numbers\\\">1281</span></span>\",\"<span class=\\\"formatted\\\" title=\\\"\\\"><span class=\\\"numbers\\\">1871</span></span>\",\"<span class=\\\"formatted\\\" title=\\\"\\\"><span class=\\\"numbers\\\">1667</span></span>\",\"<span class=\\\"formatted\\\" title=\\\"\\\"><span class=\\\"numbers\\\">870</span></span>\",\"<span class=\\\"formatted\\\" title=\\\"\\\"><span class=\\\"numbers\\\">359</span></span>\",\"<span class=\\\"formatted\\\" title=\\\"\\\"><span class=\\\"numbers\\\">305</span></span>\",\"<span class=\\\"formatted\\\" title=\\\"\\\"><span class=\\\"numbers\\\">1831</span></span>\",\"<span class=\\\"formatted\\\" title=\\\"\\\"><span class=\\\"numbers\\\">1246</span></span>\",\"<span class=\\\"formatted\\\" title=\\\"\\\"><span class=\\\"numbers\\\">1125</span></span>\",\"<span class=\\\"formatted\\\" title=\\\"\\\"><span class=\\\"numbers\\\">6</span></span>\",\"<span class=\\\"formatted\\\" title=\\\"\\\"><span class=\\\"numbers\\\">5</span></span>\",\"<span class=\\\"formatted\\\" title=\\\"\\\"><span class=\\\"numbers\\\">3</span></span>\",\"<span class=\\\"formatted\\\" title=\\\"\\\"><span class=\\\"numbers\\\">1683</span></span>\"] }, \n",
       "{ name: \"<span title=\\\"nulls: Int\\\">nulls</span>\", children: [], rightAlign: true, values: [\"<span class=\\\"formatted\\\" title=\\\"\\\"><span class=\\\"numbers\\\">0</span></span>\",\"<span class=\\\"formatted\\\" title=\\\"\\\"><span class=\\\"numbers\\\">0</span></span>\",\"<span class=\\\"formatted\\\" title=\\\"\\\"><span class=\\\"numbers\\\">0</span></span>\",\"<span class=\\\"formatted\\\" title=\\\"\\\"><span class=\\\"numbers\\\">0</span></span>\",\"<span class=\\\"formatted\\\" title=\\\"\\\"><span class=\\\"numbers\\\">0</span></span>\",\"<span class=\\\"formatted\\\" title=\\\"\\\"><span class=\\\"numbers\\\">0</span></span>\",\"<span class=\\\"formatted\\\" title=\\\"\\\"><span class=\\\"numbers\\\">0</span></span>\",\"<span class=\\\"formatted\\\" title=\\\"\\\"><span class=\\\"numbers\\\">0</span></span>\",\"<span class=\\\"formatted\\\" title=\\\"\\\"><span class=\\\"numbers\\\">0</span></span>\",\"<span class=\\\"formatted\\\" title=\\\"\\\"><span class=\\\"numbers\\\">0</span></span>\",\"<span class=\\\"formatted\\\" title=\\\"\\\"><span class=\\\"numbers\\\">0</span></span>\",\"<span class=\\\"formatted\\\" title=\\\"\\\"><span class=\\\"numbers\\\">0</span></span>\",\"<span class=\\\"formatted\\\" title=\\\"\\\"><span class=\\\"numbers\\\">0</span></span>\",\"<span class=\\\"formatted\\\" title=\\\"\\\"><span class=\\\"numbers\\\">0</span></span>\",\"<span class=\\\"formatted\\\" title=\\\"\\\"><span class=\\\"numbers\\\">0</span></span>\",\"<span class=\\\"formatted\\\" title=\\\"\\\"><span class=\\\"numbers\\\">0</span></span>\",\"<span class=\\\"formatted\\\" title=\\\"\\\"><span class=\\\"numbers\\\">1265</span></span>\",\"<span class=\\\"formatted\\\" title=\\\"\\\"><span class=\\\"numbers\\\">1294</span></span>\",\"<span class=\\\"formatted\\\" title=\\\"\\\"><span class=\\\"numbers\\\">1814</span></span>\",\"<span class=\\\"formatted\\\" title=\\\"\\\"><span class=\\\"numbers\\\">0</span></span>\"] }, \n",
       "{ name: \"<span title=\\\"top: Comparable\\\">top</span>\", children: [], rightAlign: false, values: [\"9ed326ed-085e-4d35-bc77-fe62a0fc5e4a\",\"1986-03-24\",\"<span class=\\\"formatted\\\" title=\\\"\\\"><span class=\\\"numbers\\\">12</span></span>\",\"<span class=\\\"formatted\\\" title=\\\"\\\"><span class=\\\"numbers\\\">1990</span></span>\",\"<span class=\\\"formatted\\\" title=\\\"\\\"><span class=\\\"numbers\\\">23.3</span></span>\",\"<span class=\\\"formatted\\\" title=\\\"\\\"><span class=\\\"numbers\\\">26.3</span></span>\",\"<span class=\\\"formatted\\\" title=\\\"\\\"><span class=\\\"numbers\\\">23.9</span></span>\",\"<span class=\\\"formatted\\\" title=\\\"\\\"><span class=\\\"numbers\\\">24.5</span></span>\",\"<span class=\\\"formatted\\\" title=\\\"\\\"><span class=\\\"numbers\\\">2300000</span></span>\",\"<span class=\\\"formatted\\\" title=\\\"\\\"><span class=\\\"numbers\\\">0.0</span></span>\",\"<span class=\\\"formatted\\\" title=\\\"\\\"><span class=\\\"numbers\\\">1.1</span></span>\",\"<span class=\\\"formatted\\\" title=\\\"\\\"><span class=\\\"numbers\\\">0.0</span></span>\",\"<span class=\\\"formatted\\\" title=\\\"\\\"><span class=\\\"numbers\\\">0.3</span></span>\",\"<span class=\\\"formatted\\\" title=\\\"\\\"><span class=\\\"numbers\\\">211956270.3</span></span>\",\"<span class=\\\"formatted\\\" title=\\\"\\\"><span class=\\\"numbers\\\">49.3</span></span>\",\"<span class=\\\"formatted\\\" title=\\\"\\\"><span class=\\\"numbers\\\">100.0</span></span>\",\"{BearishOutsideReversal}\",\"{BullishOutsideReversal}\",\"{MAX}\",\"<span class=\\\"formatted\\\" title=\\\"\\\"><span class=\\\"numbers\\\">9.5</span></span>\"] }, \n",
       "{ name: \"<span title=\\\"freq: Int\\\">freq</span>\", children: [], rightAlign: true, values: [\"<span class=\\\"formatted\\\" title=\\\"\\\"><span class=\\\"numbers\\\">1</span></span>\",\"<span class=\\\"formatted\\\" title=\\\"\\\"><span class=\\\"numbers\\\">1</span></span>\",\"<span class=\\\"formatted\\\" title=\\\"\\\"><span class=\\\"numbers\\\">36</span></span>\",\"<span class=\\\"formatted\\\" title=\\\"\\\"><span class=\\\"numbers\\\">53</span></span>\",\"<span class=\\\"formatted\\\" title=\\\"\\\"><span class=\\\"numbers\\\">9</span></span>\",\"<span class=\\\"formatted\\\" title=\\\"\\\"><span class=\\\"numbers\\\">9</span></span>\",\"<span class=\\\"formatted\\\" title=\\\"\\\"><span class=\\\"numbers\\\">7</span></span>\",\"<span class=\\\"formatted\\\" title=\\\"\\\"><span class=\\\"numbers\\\">8</span></span>\",\"<span class=\\\"formatted\\\" title=\\\"\\\"><span class=\\\"numbers\\\">2</span></span>\",\"<span class=\\\"formatted\\\" title=\\\"\\\"><span class=\\\"numbers\\\">45</span></span>\",\"<span class=\\\"formatted\\\" title=\\\"\\\"><span class=\\\"numbers\\\">37</span></span>\",\"<span class=\\\"formatted\\\" title=\\\"\\\"><span class=\\\"numbers\\\">32</span></span>\",\"<span class=\\\"formatted\\\" title=\\\"\\\"><span class=\\\"numbers\\\">55</span></span>\",\"<span class=\\\"formatted\\\" title=\\\"\\\"><span class=\\\"numbers\\\">4</span></span>\",\"<span class=\\\"formatted\\\" title=\\\"\\\"><span class=\\\"numbers\\\">8</span></span>\",\"<span class=\\\"formatted\\\" title=\\\"\\\"><span class=\\\"numbers\\\">322</span></span>\",\"<span class=\\\"formatted\\\" title=\\\"\\\"><span class=\\\"numbers\\\">338</span></span>\",\"<span class=\\\"formatted\\\" title=\\\"\\\"><span class=\\\"numbers\\\">338</span></span>\",\"<span class=\\\"formatted\\\" title=\\\"\\\"><span class=\\\"numbers\\\">31</span></span>\",\"<span class=\\\"formatted\\\" title=\\\"\\\"><span class=\\\"numbers\\\">4</span></span>\"] }, \n",
       "{ name: \"<span title=\\\"mean: Double?\\\">mean</span>\", children: [], rightAlign: true, values: [\"<span class=\\\"formatted\\\" title=\\\"\\\"><span class=\\\"null\\\">null</span></span>\",\"<span class=\\\"formatted\\\" title=\\\"\\\"><span class=\\\"null\\\">null</span></span>\",\"<span class=\\\"formatted\\\" title=\\\"\\\"><span class=\\\"numbers\\\">26.601812</span></span>\",\"<span class=\\\"formatted\\\" title=\\\"\\\"><span class=\\\"numbers\\\">2003.692964</span></span>\",\"<span class=\\\"formatted\\\" title=\\\"\\\"><span class=\\\"numbers\\\">20.993971</span></span>\",\"<span class=\\\"formatted\\\" title=\\\"\\\"><span class=\\\"numbers\\\">21.775944</span></span>\",\"<span class=\\\"formatted\\\" title=\\\"\\\"><span class=\\\"numbers\\\">20.179828</span></span>\",\"<span class=\\\"formatted\\\" title=\\\"\\\"><span class=\\\"numbers\\\">20.981257</span></span>\",\"<span class=\\\"formatted\\\" title=\\\"\\\"><span class=\\\"numbers\\\">31927575.586354</span></span>\",\"<span class=\\\"formatted\\\" title=\\\"\\\"><span class=\\\"numbers\\\">0.326409</span></span>\",\"<span class=\\\"formatted\\\" title=\\\"\\\"><span class=\\\"numbers\\\">1.596116</span></span>\",\"<span class=\\\"formatted\\\" title=\\\"\\\"><span class=\\\"numbers\\\">0.108950</span></span>\",\"<span class=\\\"formatted\\\" title=\\\"\\\"><span class=\\\"numbers\\\">0.292178</span></span>\",\"<span class=\\\"formatted\\\" title=\\\"\\\"><span class=\\\"numbers\\\">815620594.691459</span></span>\",\"<span class=\\\"formatted\\\" title=\\\"\\\"><span class=\\\"numbers\\\">52.958686</span></span>\",\"<span class=\\\"formatted\\\" title=\\\"\\\"><span class=\\\"numbers\\\">52.253715</span></span>\",\"<span class=\\\"formatted\\\" title=\\\"\\\"><span class=\\\"null\\\">null</span></span>\",\"<span class=\\\"formatted\\\" title=\\\"\\\"><span class=\\\"null\\\">null</span></span>\",\"<span class=\\\"formatted\\\" title=\\\"\\\"><span class=\\\"null\\\">null</span></span>\",\"<span class=\\\"formatted\\\" title=\\\"\\\"><span class=\\\"numbers\\\">20.946314</span></span>\"] }, \n",
       "{ name: \"<span title=\\\"std: Double?\\\">std</span>\", children: [], rightAlign: true, values: [\"<span class=\\\"formatted\\\" title=\\\"\\\"><span class=\\\"null\\\">null</span></span>\",\"<span class=\\\"formatted\\\" title=\\\"\\\"><span class=\\\"null\\\">null</span></span>\",\"<span class=\\\"formatted\\\" title=\\\"\\\"><span class=\\\"numbers\\\">652.188281</span></span>\",\"<span class=\\\"formatted\\\" title=\\\"\\\"><span class=\\\"numbers\\\">449.667819</span></span>\",\"<span class=\\\"formatted\\\" title=\\\"\\\"><span class=\\\"numbers\\\">491.371751</span></span>\",\"<span class=\\\"formatted\\\" title=\\\"\\\"><span class=\\\"numbers\\\">508.604107</span></span>\",\"<span class=\\\"formatted\\\" title=\\\"\\\"><span class=\\\"numbers\\\">470.624084</span></span>\",\"<span class=\\\"formatted\\\" title=\\\"\\\"><span class=\\\"numbers\\\">489.376831</span></span>\",\"<span class=\\\"formatted\\\" title=\\\"\\\"><span class=\\\"numbers\\\">1514896257.947533</span></span>\",\"<span class=\\\"formatted\\\" title=\\\"\\\"><span class=\\\"numbers\\\">237.307493</span></span>\",\"<span class=\\\"formatted\\\" title=\\\"\\\"><span class=\\\"numbers\\\">55.481543</span></span>\",\"<span class=\\\"formatted\\\" title=\\\"\\\"><span class=\\\"numbers\\\">4.538541</span></span>\",\"<span class=\\\"formatted\\\" title=\\\"\\\"><span class=\\\"numbers\\\">3.515169</span></span>\",\"<span class=\\\"formatted\\\" title=\\\"\\\"><span class=\\\"numbers\\\">14945200778.032454</span></span>\",\"<span class=\\\"formatted\\\" title=\\\"\\\"><span class=\\\"numbers\\\">551.637174</span></span>\",\"<span class=\\\"formatted\\\" title=\\\"\\\"><span class=\\\"numbers\\\">1572.708358</span></span>\",\"<span class=\\\"formatted\\\" title=\\\"\\\"><span class=\\\"null\\\">null</span></span>\",\"<span class=\\\"formatted\\\" title=\\\"\\\"><span class=\\\"null\\\">null</span></span>\",\"<span class=\\\"formatted\\\" title=\\\"\\\"><span class=\\\"null\\\">null</span></span>\",\"<span class=\\\"formatted\\\" title=\\\"\\\"><span class=\\\"numbers\\\">488.264427</span></span>\"] }, \n",
       "{ name: \"<span title=\\\"min: Comparable\\\">min</span>\", children: [], rightAlign: false, values: [\"00049160-2dd9-4993-84c2-17c8567fbeed\",\"1986-03-24\",\"<span class=\\\"formatted\\\" title=\\\"\\\"><span class=\\\"numbers\\\">1</span></span>\",\"<span class=\\\"formatted\\\" title=\\\"\\\"><span class=\\\"numbers\\\">1986</span></span>\",\"<span class=\\\"formatted\\\" title=\\\"\\\"><span class=\\\"numbers\\\">0.9</span></span>\",\"<span class=\\\"formatted\\\" title=\\\"\\\"><span class=\\\"numbers\\\">0.9</span></span>\",\"<span class=\\\"formatted\\\" title=\\\"\\\"><span class=\\\"numbers\\\">0.9</span></span>\",\"<span class=\\\"formatted\\\" title=\\\"\\\"><span class=\\\"numbers\\\">0.9</span></span>\",\"<span class=\\\"formatted\\\" title=\\\"\\\"><span class=\\\"numbers\\\">501200</span></span>\",\"<span class=\\\"formatted\\\" title=\\\"\\\"><span class=\\\"numbers\\\">-26.2</span></span>\",\"<span class=\\\"formatted\\\" title=\\\"\\\"><span class=\\\"numbers\\\">0.0</span></span>\",\"<span class=\\\"formatted\\\" title=\\\"\\\"><span class=\\\"numbers\\\">0.0</span></span>\",\"<span class=\\\"formatted\\\" title=\\\"\\\"><span class=\\\"numbers\\\">-0.0</span></span>\",\"<span class=\\\"formatted\\\" title=\\\"\\\"><span class=\\\"numbers\\\">-57154258.0</span></span>\",\"<span class=\\\"formatted\\\" title=\\\"\\\"><span class=\\\"numbers\\\">12.7</span></span>\",\"<span class=\\\"formatted\\\" title=\\\"\\\"><span class=\\\"numbers\\\">0.0</span></span>\",\"{BearishOutsideReversal,BullishCandle}\",\"{BearishCandle}\",\"{MAX}\",\"<span class=\\\"formatted\\\" title=\\\"\\\"><span class=\\\"numbers\\\">0.9</span></span>\"] }, \n",
       "{ name: \"<span title=\\\"median: Comparable\\\">median</span>\", children: [], rightAlign: false, values: [\"7b75305a-c269-4105-80bd-72e02bfe750f\",\"2004-03-08\",\"<span class=\\\"formatted\\\" title=\\\"\\\"><span class=\\\"numbers\\\">27</span></span>\",\"<span class=\\\"formatted\\\" title=\\\"\\\"><span class=\\\"numbers\\\">2004</span></span>\",\"<span class=\\\"formatted\\\" title=\\\"\\\"><span class=\\\"numbers\\\">18.9</span></span>\",\"<span class=\\\"formatted\\\" title=\\\"\\\"><span class=\\\"numbers\\\">19.7</span></span>\",\"<span class=\\\"formatted\\\" title=\\\"\\\"><span class=\\\"numbers\\\">18.2</span></span>\",\"<span class=\\\"formatted\\\" title=\\\"\\\"><span class=\\\"numbers\\\">19.0</span></span>\",\"<span class=\\\"formatted\\\" title=\\\"\\\"><span class=\\\"numbers\\\">13358800</span></span>\",\"<span class=\\\"formatted\\\" title=\\\"\\\"><span class=\\\"numbers\\\">0.2</span></span>\",\"<span class=\\\"formatted\\\" title=\\\"\\\"><span class=\\\"numbers\\\">1.3</span></span>\",\"<span class=\\\"formatted\\\" title=\\\"\\\"><span class=\\\"numbers\\\">0.1</span></span>\",\"<span class=\\\"formatted\\\" title=\\\"\\\"><span class=\\\"numbers\\\">0.3</span></span>\",\"<span class=\\\"formatted\\\" title=\\\"\\\"><span class=\\\"numbers\\\">718747787.9</span></span>\",\"<span class=\\\"formatted\\\" title=\\\"\\\"><span class=\\\"numbers\\\">52.8</span></span>\",\"<span class=\\\"formatted\\\" title=\\\"\\\"><span class=\\\"numbers\\\">54.2</span></span>\",\"{BearishOutsideReversal}\",\"{BullishOutsideReversal}\",\"{MAX}\",\"<span class=\\\"formatted\\\" title=\\\"\\\"><span class=\\\"numbers\\\">18.8</span></span>\"] }, \n",
       "{ name: \"<span title=\\\"max: Comparable\\\">max</span>\", children: [], rightAlign: false, values: [\"ffec8d2b-d446-49e2-a552-e0e8eb1d63f8\",\"2022-02-28\",\"<span class=\\\"formatted\\\" title=\\\"\\\"><span class=\\\"numbers\\\">53</span></span>\",\"<span class=\\\"formatted\\\" title=\\\"\\\"><span class=\\\"numbers\\\">2022</span></span>\",\"<span class=\\\"formatted\\\" title=\\\"\\\"><span class=\\\"numbers\\\">54.3</span></span>\",\"<span class=\\\"formatted\\\" title=\\\"\\\"><span class=\\\"numbers\\\">56.0</span></span>\",\"<span class=\\\"formatted\\\" title=\\\"\\\"><span class=\\\"numbers\\\">52.7</span></span>\",\"<span class=\\\"formatted\\\" title=\\\"\\\"><span class=\\\"numbers\\\">55.6</span></span>\",\"<span class=\\\"formatted\\\" title=\\\"\\\"><span class=\\\"numbers\\\">227776100</span></span>\",\"<span class=\\\"formatted\\\" title=\\\"\\\"><span class=\\\"numbers\\\">32.1</span></span>\",\"<span class=\\\"formatted\\\" title=\\\"\\\"><span class=\\\"numbers\\\">12.5</span></span>\",\"<span class=\\\"formatted\\\" title=\\\"\\\"><span class=\\\"numbers\\\">0.5</span></span>\",\"<span class=\\\"formatted\\\" title=\\\"\\\"><span class=\\\"numbers\\\">0.5</span></span>\",\"<span class=\\\"formatted\\\" title=\\\"\\\"><span class=\\\"numbers\\\">1881420010.1</span></span>\",\"<span class=\\\"formatted\\\" title=\\\"\\\"><span class=\\\"numbers\\\">100.0</span></span>\",\"<span class=\\\"formatted\\\" title=\\\"\\\"><span class=\\\"numbers\\\">100.0</span></span>\",\"{EveningStarBearishReversal}\",\"{EveningStarBullishReversal}\",\"{MIN}\",\"<span class=\\\"formatted\\\" title=\\\"\\\"><span class=\\\"numbers\\\">53.2</span></span>\"] }, \n",
       "], id: -1811939324, rootId: -1811939324 } ) });\n",
       "/*-->*/\n",
       "\n",
       "call_DataFrame(function() { DataFrame.renderTable(-1811939324) });\n",
       "\n",
       "\n",
       "        </script>\n",
       "        </html>"
      ]
     },
     "execution_count": 13,
     "metadata": {},
     "output_type": "execute_result"
    }
   ],
   "source": [
    "df.describe()"
   ]
  },
  {
   "cell_type": "code",
   "execution_count": 14,
   "id": "a30f62ba-abed-4068-9a70-45f45f036670",
   "metadata": {},
   "outputs": [],
   "source": [
    "// df.select {date and close and delta and trend and stochastic}"
   ]
  },
  {
   "cell_type": "code",
   "execution_count": 15,
   "id": "4004d89c-6917-4384-9752-c26c94e4bb8a",
   "metadata": {},
   "outputs": [
    {
     "data": {
      "text/plain": [
       "382"
      ]
     },
     "execution_count": 15,
     "metadata": {},
     "output_type": "execute_result"
    }
   ],
   "source": [
    "df.count{stochastic > 95}"
   ]
  },
  {
   "cell_type": "code",
   "execution_count": 16,
   "id": "2a8b0e22-0c77-47f3-9afe-9f5c87b8ef16",
   "metadata": {},
   "outputs": [
    {
     "data": {
      "text/html": [
       "        <html>\n",
       "        <head>\n",
       "            <style type=\"text/css\">\n",
       "                \n",
       "\n",
       "            </style>\n",
       "        </head>\n",
       "        <body>\n",
       "            <table class=\"dataframe\" id=\"df_-1811939323\"></table>\n",
       "\n",
       "<p>... showing only top 20 of 1876 rows</p><p>DataFrame [1876 x 20]</p>\n",
       "        </body>\n",
       "        <script>\n",
       "            /*<!--*/\n",
       "call_DataFrame(function() { DataFrame.addTable({ cols: [{ name: \"<span title=\\\"id: String\\\">id</span>\", children: [], rightAlign: false, values: [\"9ed326ed-085e-4d35-bc77-fe62a0fc5e4a\",\"bf1d2066-32f0-4d5d-a506-afe0eebe9512\",\"6c5de689-3751-42db-badc-035fca3d23e0\",\"f02bf64a-a041-48e8-9ef3-bd08f43cce06\",\"2fe83e2d-6e39-4354-9aea-9dfd6f34e950\",\"c751da94-57b3-48e7-a67c-b531557d1f66\",\"0b191a97-716b-408f-914e-23289b937826\",\"75e0c810-9a03-475d-8bd0-7454120c87b1\",\"c3807f4c-6874-4c7f-8a0a-8c8a46195612\",\"a9d88067-cd5d-4534-985b-9b347e184731\",\"770e4a46-b199-4e77-988a-b4e288f86a31\",\"ae0fcde9-ade0-49b7-82af-d726a4a94abc\",\"5d017dbf-a905-4be9-9c3a-8f3d7d54c46d\",\"c7d99af2-e4ad-4618-9cd2-fd89f8e94255\",\"a9ccd739-afdd-4a45-ac65-c416e5ad9c37\",\"f60c7581-8230-421b-96f1-66005e4e9095\",\"5c3ae46d-018a-4961-b9a8-1e9b37145cbe\",\"a769e8e7-7408-4872-b255-1992c5cd8578\",\"e4370eb1-ffd8-4ec1-88bb-62196ea78c16\",\"070bb4bd-1da7-4333-9977-c3ab091be639\"] }, \n",
       "{ name: \"<span title=\\\"date: kotlinx.datetime.LocalDate\\\">date</span>\", children: [], rightAlign: false, values: [\"1986-03-24\",\"1986-03-31\",\"1986-04-07\",\"1986-04-14\",\"1986-04-21\",\"1986-04-28\",\"1986-05-05\",\"1986-05-12\",\"1986-05-19\",\"1986-05-27\",\"1986-06-02\",\"1986-06-09\",\"1986-06-16\",\"1986-06-23\",\"1986-06-30\",\"1986-07-07\",\"1986-07-14\",\"1986-07-21\",\"1986-07-28\",\"1986-08-04\"] }, \n",
       "{ name: \"<span title=\\\"weekNr: Int\\\">weekNr</span>\", children: [], rightAlign: true, values: [\"<span class=\\\"formatted\\\" title=\\\"\\\"><span class=\\\"numbers\\\">12</span></span>\",\"<span class=\\\"formatted\\\" title=\\\"\\\"><span class=\\\"numbers\\\">13</span></span>\",\"<span class=\\\"formatted\\\" title=\\\"\\\"><span class=\\\"numbers\\\">14</span></span>\",\"<span class=\\\"formatted\\\" title=\\\"\\\"><span class=\\\"numbers\\\">15</span></span>\",\"<span class=\\\"formatted\\\" title=\\\"\\\"><span class=\\\"numbers\\\">16</span></span>\",\"<span class=\\\"formatted\\\" title=\\\"\\\"><span class=\\\"numbers\\\">17</span></span>\",\"<span class=\\\"formatted\\\" title=\\\"\\\"><span class=\\\"numbers\\\">18</span></span>\",\"<span class=\\\"formatted\\\" title=\\\"\\\"><span class=\\\"numbers\\\">19</span></span>\",\"<span class=\\\"formatted\\\" title=\\\"\\\"><span class=\\\"numbers\\\">20</span></span>\",\"<span class=\\\"formatted\\\" title=\\\"\\\"><span class=\\\"numbers\\\">21</span></span>\",\"<span class=\\\"formatted\\\" title=\\\"\\\"><span class=\\\"numbers\\\">22</span></span>\",\"<span class=\\\"formatted\\\" title=\\\"\\\"><span class=\\\"numbers\\\">23</span></span>\",\"<span class=\\\"formatted\\\" title=\\\"\\\"><span class=\\\"numbers\\\">24</span></span>\",\"<span class=\\\"formatted\\\" title=\\\"\\\"><span class=\\\"numbers\\\">25</span></span>\",\"<span class=\\\"formatted\\\" title=\\\"\\\"><span class=\\\"numbers\\\">26</span></span>\",\"<span class=\\\"formatted\\\" title=\\\"\\\"><span class=\\\"numbers\\\">27</span></span>\",\"<span class=\\\"formatted\\\" title=\\\"\\\"><span class=\\\"numbers\\\">28</span></span>\",\"<span class=\\\"formatted\\\" title=\\\"\\\"><span class=\\\"numbers\\\">29</span></span>\",\"<span class=\\\"formatted\\\" title=\\\"\\\"><span class=\\\"numbers\\\">30</span></span>\",\"<span class=\\\"formatted\\\" title=\\\"\\\"><span class=\\\"numbers\\\">31</span></span>\"] }, \n",
       "{ name: \"<span title=\\\"year: Int\\\">year</span>\", children: [], rightAlign: true, values: [\"<span class=\\\"formatted\\\" title=\\\"\\\"><span class=\\\"numbers\\\">1986</span></span>\",\"<span class=\\\"formatted\\\" title=\\\"\\\"><span class=\\\"numbers\\\">1986</span></span>\",\"<span class=\\\"formatted\\\" title=\\\"\\\"><span class=\\\"numbers\\\">1986</span></span>\",\"<span class=\\\"formatted\\\" title=\\\"\\\"><span class=\\\"numbers\\\">1986</span></span>\",\"<span class=\\\"formatted\\\" title=\\\"\\\"><span class=\\\"numbers\\\">1986</span></span>\",\"<span class=\\\"formatted\\\" title=\\\"\\\"><span class=\\\"numbers\\\">1986</span></span>\",\"<span class=\\\"formatted\\\" title=\\\"\\\"><span class=\\\"numbers\\\">1986</span></span>\",\"<span class=\\\"formatted\\\" title=\\\"\\\"><span class=\\\"numbers\\\">1986</span></span>\",\"<span class=\\\"formatted\\\" title=\\\"\\\"><span class=\\\"numbers\\\">1986</span></span>\",\"<span class=\\\"formatted\\\" title=\\\"\\\"><span class=\\\"numbers\\\">1986</span></span>\",\"<span class=\\\"formatted\\\" title=\\\"\\\"><span class=\\\"numbers\\\">1986</span></span>\",\"<span class=\\\"formatted\\\" title=\\\"\\\"><span class=\\\"numbers\\\">1986</span></span>\",\"<span class=\\\"formatted\\\" title=\\\"\\\"><span class=\\\"numbers\\\">1986</span></span>\",\"<span class=\\\"formatted\\\" title=\\\"\\\"><span class=\\\"numbers\\\">1986</span></span>\",\"<span class=\\\"formatted\\\" title=\\\"\\\"><span class=\\\"numbers\\\">1986</span></span>\",\"<span class=\\\"formatted\\\" title=\\\"\\\"><span class=\\\"numbers\\\">1986</span></span>\",\"<span class=\\\"formatted\\\" title=\\\"\\\"><span class=\\\"numbers\\\">1986</span></span>\",\"<span class=\\\"formatted\\\" title=\\\"\\\"><span class=\\\"numbers\\\">1986</span></span>\",\"<span class=\\\"formatted\\\" title=\\\"\\\"><span class=\\\"numbers\\\">1986</span></span>\",\"<span class=\\\"formatted\\\" title=\\\"\\\"><span class=\\\"numbers\\\">1986</span></span>\"] }, \n",
       "{ name: \"<span title=\\\"open: Double\\\">open</span>\", children: [], rightAlign: true, values: [\"<span class=\\\"formatted\\\" title=\\\"\\\"><span class=\\\"numbers\\\">0.875000</span></span>\",\"<span class=\\\"formatted\\\" title=\\\"\\\"><span class=\\\"numbers\\\">0.906250</span></span>\",\"<span class=\\\"formatted\\\" title=\\\"\\\"><span class=\\\"numbers\\\">0.906250</span></span>\",\"<span class=\\\"formatted\\\" title=\\\"\\\"><span class=\\\"numbers\\\">1.062500</span></span>\",\"<span class=\\\"formatted\\\" title=\\\"\\\"><span class=\\\"numbers\\\">1.078125</span></span>\",\"<span class=\\\"formatted\\\" title=\\\"\\\"><span class=\\\"numbers\\\">1.218750</span></span>\",\"<span class=\\\"formatted\\\" title=\\\"\\\"><span class=\\\"numbers\\\">1.218750</span></span>\",\"<span class=\\\"formatted\\\" title=\\\"\\\"><span class=\\\"numbers\\\">1.234375</span></span>\",\"<span class=\\\"formatted\\\" title=\\\"\\\"><span class=\\\"numbers\\\">1.203125</span></span>\",\"<span class=\\\"formatted\\\" title=\\\"\\\"><span class=\\\"numbers\\\">1.218750</span></span>\",\"<span class=\\\"formatted\\\" title=\\\"\\\"><span class=\\\"numbers\\\">1.234375</span></span>\",\"<span class=\\\"formatted\\\" title=\\\"\\\"><span class=\\\"numbers\\\">1.250000</span></span>\",\"<span class=\\\"formatted\\\" title=\\\"\\\"><span class=\\\"numbers\\\">1.250000</span></span>\",\"<span class=\\\"formatted\\\" title=\\\"\\\"><span class=\\\"numbers\\\">1.250000</span></span>\",\"<span class=\\\"formatted\\\" title=\\\"\\\"><span class=\\\"numbers\\\">1.281250</span></span>\",\"<span class=\\\"formatted\\\" title=\\\"\\\"><span class=\\\"numbers\\\">1.281250</span></span>\",\"<span class=\\\"formatted\\\" title=\\\"\\\"><span class=\\\"numbers\\\">1.281250</span></span>\",\"<span class=\\\"formatted\\\" title=\\\"\\\"><span class=\\\"numbers\\\">1.281250</span></span>\",\"<span class=\\\"formatted\\\" title=\\\"\\\"><span class=\\\"numbers\\\">1.250000</span></span>\",\"<span class=\\\"formatted\\\" title=\\\"\\\"><span class=\\\"numbers\\\">1.375000</span></span>\"] }, \n",
       "{ name: \"<span title=\\\"high: Double\\\">high</span>\", children: [], rightAlign: true, values: [\"<span class=\\\"formatted\\\" title=\\\"\\\"><span class=\\\"numbers\\\">0.937500</span></span>\",\"<span class=\\\"formatted\\\" title=\\\"\\\"><span class=\\\"numbers\\\">0.937500</span></span>\",\"<span class=\\\"formatted\\\" title=\\\"\\\"><span class=\\\"numbers\\\">1.093750</span></span>\",\"<span class=\\\"formatted\\\" title=\\\"\\\"><span class=\\\"numbers\\\">1.140625</span></span>\",\"<span class=\\\"formatted\\\" title=\\\"\\\"><span class=\\\"numbers\\\">1.250000</span></span>\",\"<span class=\\\"formatted\\\" title=\\\"\\\"><span class=\\\"numbers\\\">1.250000</span></span>\",\"<span class=\\\"formatted\\\" title=\\\"\\\"><span class=\\\"numbers\\\">1.250000</span></span>\",\"<span class=\\\"formatted\\\" title=\\\"\\\"><span class=\\\"numbers\\\">1.234375</span></span>\",\"<span class=\\\"formatted\\\" title=\\\"\\\"><span class=\\\"numbers\\\">1.234375</span></span>\",\"<span class=\\\"formatted\\\" title=\\\"\\\"><span class=\\\"numbers\\\">1.250000</span></span>\",\"<span class=\\\"formatted\\\" title=\\\"\\\"><span class=\\\"numbers\\\">1.281250</span></span>\",\"<span class=\\\"formatted\\\" title=\\\"\\\"><span class=\\\"numbers\\\">1.343750</span></span>\",\"<span class=\\\"formatted\\\" title=\\\"\\\"><span class=\\\"numbers\\\">1.281250</span></span>\",\"<span class=\\\"formatted\\\" title=\\\"\\\"><span class=\\\"numbers\\\">1.281250</span></span>\",\"<span class=\\\"formatted\\\" title=\\\"\\\"><span class=\\\"numbers\\\">1.328125</span></span>\",\"<span class=\\\"formatted\\\" title=\\\"\\\"><span class=\\\"numbers\\\">1.312500</span></span>\",\"<span class=\\\"formatted\\\" title=\\\"\\\"><span class=\\\"numbers\\\">1.281250</span></span>\",\"<span class=\\\"formatted\\\" title=\\\"\\\"><span class=\\\"numbers\\\">1.281250</span></span>\",\"<span class=\\\"formatted\\\" title=\\\"\\\"><span class=\\\"numbers\\\">1.375000</span></span>\",\"<span class=\\\"formatted\\\" title=\\\"\\\"><span class=\\\"numbers\\\">1.531250</span></span>\"] }, \n",
       "{ name: \"<span title=\\\"low: Double\\\">low</span>\", children: [], rightAlign: true, values: [\"<span class=\\\"formatted\\\" title=\\\"\\\"><span class=\\\"numbers\\\">0.859375</span></span>\",\"<span class=\\\"formatted\\\" title=\\\"\\\"><span class=\\\"numbers\\\">0.859375</span></span>\",\"<span class=\\\"formatted\\\" title=\\\"\\\"><span class=\\\"numbers\\\">0.890625</span></span>\",\"<span class=\\\"formatted\\\" title=\\\"\\\"><span class=\\\"numbers\\\">1.031250</span></span>\",\"<span class=\\\"formatted\\\" title=\\\"\\\"><span class=\\\"numbers\\\">1.031250</span></span>\",\"<span class=\\\"formatted\\\" title=\\\"\\\"><span class=\\\"numbers\\\">1.187500</span></span>\",\"<span class=\\\"formatted\\\" title=\\\"\\\"><span class=\\\"numbers\\\">1.187500</span></span>\",\"<span class=\\\"formatted\\\" title=\\\"\\\"><span class=\\\"numbers\\\">1.156250</span></span>\",\"<span class=\\\"formatted\\\" title=\\\"\\\"><span class=\\\"numbers\\\">1.156250</span></span>\",\"<span class=\\\"formatted\\\" title=\\\"\\\"><span class=\\\"numbers\\\">1.187500</span></span>\",\"<span class=\\\"formatted\\\" title=\\\"\\\"><span class=\\\"numbers\\\">1.218750</span></span>\",\"<span class=\\\"formatted\\\" title=\\\"\\\"><span class=\\\"numbers\\\">1.250000</span></span>\",\"<span class=\\\"formatted\\\" title=\\\"\\\"><span class=\\\"numbers\\\">1.218750</span></span>\",\"<span class=\\\"formatted\\\" title=\\\"\\\"><span class=\\\"numbers\\\">1.234375</span></span>\",\"<span class=\\\"formatted\\\" title=\\\"\\\"><span class=\\\"numbers\\\">1.281250</span></span>\",\"<span class=\\\"formatted\\\" title=\\\"\\\"><span class=\\\"numbers\\\">1.281250</span></span>\",\"<span class=\\\"formatted\\\" title=\\\"\\\"><span class=\\\"numbers\\\">1.250000</span></span>\",\"<span class=\\\"formatted\\\" title=\\\"\\\"><span class=\\\"numbers\\\">1.250000</span></span>\",\"<span class=\\\"formatted\\\" title=\\\"\\\"><span class=\\\"numbers\\\">1.250000</span></span>\",\"<span class=\\\"formatted\\\" title=\\\"\\\"><span class=\\\"numbers\\\">1.375000</span></span>\"] }, \n",
       "{ name: \"<span title=\\\"close: Double\\\">close</span>\", children: [], rightAlign: true, values: [\"<span class=\\\"formatted\\\" title=\\\"\\\"><span class=\\\"numbers\\\">0.906250</span></span>\",\"<span class=\\\"formatted\\\" title=\\\"\\\"><span class=\\\"numbers\\\">0.906250</span></span>\",\"<span class=\\\"formatted\\\" title=\\\"\\\"><span class=\\\"numbers\\\">1.062500</span></span>\",\"<span class=\\\"formatted\\\" title=\\\"\\\"><span class=\\\"numbers\\\">1.078125</span></span>\",\"<span class=\\\"formatted\\\" title=\\\"\\\"><span class=\\\"numbers\\\">1.218750</span></span>\",\"<span class=\\\"formatted\\\" title=\\\"\\\"><span class=\\\"numbers\\\">1.218750</span></span>\",\"<span class=\\\"formatted\\\" title=\\\"\\\"><span class=\\\"numbers\\\">1.234375</span></span>\",\"<span class=\\\"formatted\\\" title=\\\"\\\"><span class=\\\"numbers\\\">1.203125</span></span>\",\"<span class=\\\"formatted\\\" title=\\\"\\\"><span class=\\\"numbers\\\">1.218750</span></span>\",\"<span class=\\\"formatted\\\" title=\\\"\\\"><span class=\\\"numbers\\\">1.234375</span></span>\",\"<span class=\\\"formatted\\\" title=\\\"\\\"><span class=\\\"numbers\\\">1.250000</span></span>\",\"<span class=\\\"formatted\\\" title=\\\"\\\"><span class=\\\"numbers\\\">1.281250</span></span>\",\"<span class=\\\"formatted\\\" title=\\\"\\\"><span class=\\\"numbers\\\">1.250000</span></span>\",\"<span class=\\\"formatted\\\" title=\\\"\\\"><span class=\\\"numbers\\\">1.281250</span></span>\",\"<span class=\\\"formatted\\\" title=\\\"\\\"><span class=\\\"numbers\\\">1.281250</span></span>\",\"<span class=\\\"formatted\\\" title=\\\"\\\"><span class=\\\"numbers\\\">1.281250</span></span>\",\"<span class=\\\"formatted\\\" title=\\\"\\\"><span class=\\\"numbers\\\">1.281250</span></span>\",\"<span class=\\\"formatted\\\" title=\\\"\\\"><span class=\\\"numbers\\\">1.250000</span></span>\",\"<span class=\\\"formatted\\\" title=\\\"\\\"><span class=\\\"numbers\\\">1.375000</span></span>\",\"<span class=\\\"formatted\\\" title=\\\"\\\"><span class=\\\"numbers\\\">1.500000</span></span>\"] }, \n",
       "{ name: \"<span title=\\\"volume: Int\\\">volume</span>\", children: [], rightAlign: true, values: [\"<span class=\\\"formatted\\\" title=\\\"\\\"><span class=\\\"numbers\\\">4108800</span></span>\",\"<span class=\\\"formatted\\\" title=\\\"\\\"><span class=\\\"numbers\\\">2756800</span></span>\",\"<span class=\\\"formatted\\\" title=\\\"\\\"><span class=\\\"numbers\\\">4088800</span></span>\",\"<span class=\\\"formatted\\\" title=\\\"\\\"><span class=\\\"numbers\\\">3248800</span></span>\",\"<span class=\\\"formatted\\\" title=\\\"\\\"><span class=\\\"numbers\\\">5532000</span></span>\",\"<span class=\\\"formatted\\\" title=\\\"\\\"><span class=\\\"numbers\\\">2300000</span></span>\",\"<span class=\\\"formatted\\\" title=\\\"\\\"><span class=\\\"numbers\\\">2300000</span></span>\",\"<span class=\\\"formatted\\\" title=\\\"\\\"><span class=\\\"numbers\\\">1352000</span></span>\",\"<span class=\\\"formatted\\\" title=\\\"\\\"><span class=\\\"numbers\\\">1272000</span></span>\",\"<span class=\\\"formatted\\\" title=\\\"\\\"><span class=\\\"numbers\\\">1185600</span></span>\",\"<span class=\\\"formatted\\\" title=\\\"\\\"><span class=\\\"numbers\\\">3199200</span></span>\",\"<span class=\\\"formatted\\\" title=\\\"\\\"><span class=\\\"numbers\\\">2338400</span></span>\",\"<span class=\\\"formatted\\\" title=\\\"\\\"><span class=\\\"numbers\\\">1539200</span></span>\",\"<span class=\\\"formatted\\\" title=\\\"\\\"><span class=\\\"numbers\\\">1008000</span></span>\",\"<span class=\\\"formatted\\\" title=\\\"\\\"><span class=\\\"numbers\\\">967200</span></span>\",\"<span class=\\\"formatted\\\" title=\\\"\\\"><span class=\\\"numbers\\\">1301600</span></span>\",\"<span class=\\\"formatted\\\" title=\\\"\\\"><span class=\\\"numbers\\\">968000</span></span>\",\"<span class=\\\"formatted\\\" title=\\\"\\\"><span class=\\\"numbers\\\">598400</span></span>\",\"<span class=\\\"formatted\\\" title=\\\"\\\"><span class=\\\"numbers\\\">3301600</span></span>\",\"<span class=\\\"formatted\\\" title=\\\"\\\"><span class=\\\"numbers\\\">3259200</span></span>\"] }, \n",
       "{ name: \"<span title=\\\"delta: Double\\\">delta</span>\", children: [], rightAlign: true, values: [\"<span class=\\\"formatted\\\" title=\\\"\\\"><span class=\\\"numbers\\\">3.571</span></span>\",\"<span class=\\\"formatted\\\" title=\\\"\\\"><span class=\\\"numbers\\\">0.000</span></span>\",\"<span class=\\\"formatted\\\" title=\\\"\\\"><span class=\\\"numbers\\\">17.241</span></span>\",\"<span class=\\\"formatted\\\" title=\\\"\\\"><span class=\\\"numbers\\\">1.471</span></span>\",\"<span class=\\\"formatted\\\" title=\\\"\\\"><span class=\\\"numbers\\\">13.043</span></span>\",\"<span class=\\\"formatted\\\" title=\\\"\\\"><span class=\\\"numbers\\\">0.000</span></span>\",\"<span class=\\\"formatted\\\" title=\\\"\\\"><span class=\\\"numbers\\\">1.282</span></span>\",\"<span class=\\\"formatted\\\" title=\\\"\\\"><span class=\\\"numbers\\\">-2.532</span></span>\",\"<span class=\\\"formatted\\\" title=\\\"\\\"><span class=\\\"numbers\\\">1.299</span></span>\",\"<span class=\\\"formatted\\\" title=\\\"\\\"><span class=\\\"numbers\\\">1.282</span></span>\",\"<span class=\\\"formatted\\\" title=\\\"\\\"><span class=\\\"numbers\\\">1.266</span></span>\",\"<span class=\\\"formatted\\\" title=\\\"\\\"><span class=\\\"numbers\\\">2.500</span></span>\",\"<span class=\\\"formatted\\\" title=\\\"\\\"><span class=\\\"numbers\\\">-2.439</span></span>\",\"<span class=\\\"formatted\\\" title=\\\"\\\"><span class=\\\"numbers\\\">2.500</span></span>\",\"<span class=\\\"formatted\\\" title=\\\"\\\"><span class=\\\"numbers\\\">0.000</span></span>\",\"<span class=\\\"formatted\\\" title=\\\"\\\"><span class=\\\"numbers\\\">0.000</span></span>\",\"<span class=\\\"formatted\\\" title=\\\"\\\"><span class=\\\"numbers\\\">0.000</span></span>\",\"<span class=\\\"formatted\\\" title=\\\"\\\"><span class=\\\"numbers\\\">-2.439</span></span>\",\"<span class=\\\"formatted\\\" title=\\\"\\\"><span class=\\\"numbers\\\">10.000</span></span>\",\"<span class=\\\"formatted\\\" title=\\\"\\\"><span class=\\\"numbers\\\">9.091</span></span>\"] }, \n",
       "{ name: \"<span title=\\\"intraVolatility: Double\\\">intraVolatility</span>\", children: [], rightAlign: true, values: [\"<span class=\\\"formatted\\\" title=\\\"\\\"><span class=\\\"numbers\\\">0.078125</span></span>\",\"<span class=\\\"formatted\\\" title=\\\"\\\"><span class=\\\"numbers\\\">0.078125</span></span>\",\"<span class=\\\"formatted\\\" title=\\\"\\\"><span class=\\\"numbers\\\">0.203125</span></span>\",\"<span class=\\\"formatted\\\" title=\\\"\\\"><span class=\\\"numbers\\\">0.109375</span></span>\",\"<span class=\\\"formatted\\\" title=\\\"\\\"><span class=\\\"numbers\\\">0.218750</span></span>\",\"<span class=\\\"formatted\\\" title=\\\"\\\"><span class=\\\"numbers\\\">0.062500</span></span>\",\"<span class=\\\"formatted\\\" title=\\\"\\\"><span class=\\\"numbers\\\">0.062500</span></span>\",\"<span class=\\\"formatted\\\" title=\\\"\\\"><span class=\\\"numbers\\\">0.078125</span></span>\",\"<span class=\\\"formatted\\\" title=\\\"\\\"><span class=\\\"numbers\\\">0.078125</span></span>\",\"<span class=\\\"formatted\\\" title=\\\"\\\"><span class=\\\"numbers\\\">0.062500</span></span>\",\"<span class=\\\"formatted\\\" title=\\\"\\\"><span class=\\\"numbers\\\">0.062500</span></span>\",\"<span class=\\\"formatted\\\" title=\\\"\\\"><span class=\\\"numbers\\\">0.093750</span></span>\",\"<span class=\\\"formatted\\\" title=\\\"\\\"><span class=\\\"numbers\\\">0.062500</span></span>\",\"<span class=\\\"formatted\\\" title=\\\"\\\"><span class=\\\"numbers\\\">0.046875</span></span>\",\"<span class=\\\"formatted\\\" title=\\\"\\\"><span class=\\\"numbers\\\">0.046875</span></span>\",\"<span class=\\\"formatted\\\" title=\\\"\\\"><span class=\\\"numbers\\\">0.031250</span></span>\",\"<span class=\\\"formatted\\\" title=\\\"\\\"><span class=\\\"numbers\\\">0.031250</span></span>\",\"<span class=\\\"formatted\\\" title=\\\"\\\"><span class=\\\"numbers\\\">0.031250</span></span>\",\"<span class=\\\"formatted\\\" title=\\\"\\\"><span class=\\\"numbers\\\">0.125000</span></span>\",\"<span class=\\\"formatted\\\" title=\\\"\\\"><span class=\\\"numbers\\\">0.156250</span></span>\"] }, \n",
       "{ name: \"<span title=\\\"scaledVolume: Double\\\">scaledVolume</span>\", children: [], rightAlign: true, values: [\"<span class=\\\"formatted\\\" title=\\\"\\\"><span class=\\\"numbers\\\">0.018</span></span>\",\"<span class=\\\"formatted\\\" title=\\\"\\\"><span class=\\\"numbers\\\">0.012</span></span>\",\"<span class=\\\"formatted\\\" title=\\\"\\\"><span class=\\\"numbers\\\">0.018</span></span>\",\"<span class=\\\"formatted\\\" title=\\\"\\\"><span class=\\\"numbers\\\">0.014</span></span>\",\"<span class=\\\"formatted\\\" title=\\\"\\\"><span class=\\\"numbers\\\">0.024</span></span>\",\"<span class=\\\"formatted\\\" title=\\\"\\\"><span class=\\\"numbers\\\">0.010</span></span>\",\"<span class=\\\"formatted\\\" title=\\\"\\\"><span class=\\\"numbers\\\">0.010</span></span>\",\"<span class=\\\"formatted\\\" title=\\\"\\\"><span class=\\\"numbers\\\">0.006</span></span>\",\"<span class=\\\"formatted\\\" title=\\\"\\\"><span class=\\\"numbers\\\">0.006</span></span>\",\"<span class=\\\"formatted\\\" title=\\\"\\\"><span class=\\\"numbers\\\">0.005</span></span>\",\"<span class=\\\"formatted\\\" title=\\\"\\\"><span class=\\\"numbers\\\">0.014</span></span>\",\"<span class=\\\"formatted\\\" title=\\\"\\\"><span class=\\\"numbers\\\">0.010</span></span>\",\"<span class=\\\"formatted\\\" title=\\\"\\\"><span class=\\\"numbers\\\">0.007</span></span>\",\"<span class=\\\"formatted\\\" title=\\\"\\\"><span class=\\\"numbers\\\">0.004</span></span>\",\"<span class=\\\"formatted\\\" title=\\\"\\\"><span class=\\\"numbers\\\">0.004</span></span>\",\"<span class=\\\"formatted\\\" title=\\\"\\\"><span class=\\\"numbers\\\">0.006</span></span>\",\"<span class=\\\"formatted\\\" title=\\\"\\\"><span class=\\\"numbers\\\">0.004</span></span>\",\"<span class=\\\"formatted\\\" title=\\\"\\\"><span class=\\\"numbers\\\">0.003</span></span>\",\"<span class=\\\"formatted\\\" title=\\\"\\\"><span class=\\\"numbers\\\">0.014</span></span>\",\"<span class=\\\"formatted\\\" title=\\\"\\\"><span class=\\\"numbers\\\">0.014</span></span>\"] }, \n",
       "{ name: \"<span title=\\\"scaledTrend: Double\\\">scaledTrend</span>\", children: [], rightAlign: true, values: [\"<span class=\\\"formatted\\\" title=\\\"\\\"><span class=\\\"numbers\\\">0.028</span></span>\",\"<span class=\\\"formatted\\\" title=\\\"\\\"><span class=\\\"numbers\\\">0.028</span></span>\",\"<span class=\\\"formatted\\\" title=\\\"\\\"><span class=\\\"numbers\\\">0.065</span></span>\",\"<span class=\\\"formatted\\\" title=\\\"\\\"><span class=\\\"numbers\\\">0.067</span></span>\",\"<span class=\\\"formatted\\\" title=\\\"\\\"><span class=\\\"numbers\\\">0.097</span></span>\",\"<span class=\\\"formatted\\\" title=\\\"\\\"><span class=\\\"numbers\\\">0.097</span></span>\",\"<span class=\\\"formatted\\\" title=\\\"\\\"><span class=\\\"numbers\\\">0.098</span></span>\",\"<span class=\\\"formatted\\\" title=\\\"\\\"><span class=\\\"numbers\\\">0.097</span></span>\",\"<span class=\\\"formatted\\\" title=\\\"\\\"><span class=\\\"numbers\\\">0.098</span></span>\",\"<span class=\\\"formatted\\\" title=\\\"\\\"><span class=\\\"numbers\\\">0.098</span></span>\",\"<span class=\\\"formatted\\\" title=\\\"\\\"><span class=\\\"numbers\\\">0.100</span></span>\",\"<span class=\\\"formatted\\\" title=\\\"\\\"><span class=\\\"numbers\\\">0.102</span></span>\",\"<span class=\\\"formatted\\\" title=\\\"\\\"><span class=\\\"numbers\\\">0.100</span></span>\",\"<span class=\\\"formatted\\\" title=\\\"\\\"><span class=\\\"numbers\\\">0.101</span></span>\",\"<span class=\\\"formatted\\\" title=\\\"\\\"><span class=\\\"numbers\\\">0.101</span></span>\",\"<span class=\\\"formatted\\\" title=\\\"\\\"><span class=\\\"numbers\\\">0.101</span></span>\",\"<span class=\\\"formatted\\\" title=\\\"\\\"><span class=\\\"numbers\\\">0.101</span></span>\",\"<span class=\\\"formatted\\\" title=\\\"\\\"><span class=\\\"numbers\\\">0.101</span></span>\",\"<span class=\\\"formatted\\\" title=\\\"\\\"><span class=\\\"numbers\\\">0.112</span></span>\",\"<span class=\\\"formatted\\\" title=\\\"\\\"><span class=\\\"numbers\\\">0.121</span></span>\"] }, \n",
       "{ name: \"<span title=\\\"trend: Double\\\">trend</span>\", children: [], rightAlign: true, values: [\"<span class=\\\"formatted\\\" title=\\\"\\\"><span class=\\\"numbers\\\">53434972.662</span></span>\",\"<span class=\\\"formatted\\\" title=\\\"\\\"><span class=\\\"numbers\\\">53434972.662</span></span>\",\"<span class=\\\"formatted\\\" title=\\\"\\\"><span class=\\\"numbers\\\">131222559.752</span></span>\",\"<span class=\\\"formatted\\\" title=\\\"\\\"><span class=\\\"numbers\\\">135720427.799</span></span>\",\"<span class=\\\"formatted\\\" title=\\\"\\\"><span class=\\\"numbers\\\">202645762.060</span></span>\",\"<span class=\\\"formatted\\\" title=\\\"\\\"><span class=\\\"numbers\\\">202645762.060</span></span>\",\"<span class=\\\"formatted\\\" title=\\\"\\\"><span class=\\\"numbers\\\">205065126.163</span></span>\",\"<span class=\\\"formatted\\\" title=\\\"\\\"><span class=\\\"numbers\\\">202291848.998</span></span>\",\"<span class=\\\"formatted\\\" title=\\\"\\\"><span class=\\\"numbers\\\">203665212.530</span></span>\",\"<span class=\\\"formatted\\\" title=\\\"\\\"><span class=\\\"numbers\\\">204912342.130</span></span>\",\"<span class=\\\"formatted\\\" title=\\\"\\\"><span class=\\\"numbers\\\">208193506.444</span></span>\",\"<span class=\\\"formatted\\\" title=\\\"\\\"><span class=\\\"numbers\\\">212870306.444</span></span>\",\"<span class=\\\"formatted\\\" title=\\\"\\\"><span class=\\\"numbers\\\">209940270.307</span></span>\",\"<span class=\\\"formatted\\\" title=\\\"\\\"><span class=\\\"numbers\\\">211956270.307</span></span>\",\"<span class=\\\"formatted\\\" title=\\\"\\\"><span class=\\\"numbers\\\">211956270.307</span></span>\",\"<span class=\\\"formatted\\\" title=\\\"\\\"><span class=\\\"numbers\\\">211956270.307</span></span>\",\"<span class=\\\"formatted\\\" title=\\\"\\\"><span class=\\\"numbers\\\">211956270.307</span></span>\",\"<span class=\\\"formatted\\\" title=\\\"\\\"><span class=\\\"numbers\\\">210817150.229</span></span>\",\"<span class=\\\"formatted\\\" title=\\\"\\\"><span class=\\\"numbers\\\">237229950.229</span></span>\",\"<span class=\\\"formatted\\\" title=\\\"\\\"><span class=\\\"numbers\\\">258778595.465</span></span>\"] }, \n",
       "{ name: \"<span title=\\\"momentum: Double\\\">momentum</span>\", children: [], rightAlign: true, values: [\"<span class=\\\"formatted\\\" title=\\\"\\\"><span class=\\\"numbers\\\">69.952</span></span>\",\"<span class=\\\"formatted\\\" title=\\\"\\\"><span class=\\\"numbers\\\">60.861</span></span>\",\"<span class=\\\"formatted\\\" title=\\\"\\\"><span class=\\\"numbers\\\">75.990</span></span>\",\"<span class=\\\"formatted\\\" title=\\\"\\\"><span class=\\\"numbers\\\">82.172</span></span>\",\"<span class=\\\"formatted\\\" title=\\\"\\\"><span class=\\\"numbers\\\">86.765</span></span>\",\"<span class=\\\"formatted\\\" title=\\\"\\\"><span class=\\\"numbers\\\">83.585</span></span>\",\"<span class=\\\"formatted\\\" title=\\\"\\\"><span class=\\\"numbers\\\">83.866</span></span>\",\"<span class=\\\"formatted\\\" title=\\\"\\\"><span class=\\\"numbers\\\">95.541</span></span>\",\"<span class=\\\"formatted\\\" title=\\\"\\\"><span class=\\\"numbers\\\">91.555</span></span>\",\"<span class=\\\"formatted\\\" title=\\\"\\\"><span class=\\\"numbers\\\">91.076</span></span>\",\"<span class=\\\"formatted\\\" title=\\\"\\\"><span class=\\\"numbers\\\">87.179</span></span>\",\"<span class=\\\"formatted\\\" title=\\\"\\\"><span class=\\\"numbers\\\">86.793</span></span>\",\"<span class=\\\"formatted\\\" title=\\\"\\\"><span class=\\\"numbers\\\">76.207</span></span>\",\"<span class=\\\"formatted\\\" title=\\\"\\\"><span class=\\\"numbers\\\">67.501</span></span>\",\"<span class=\\\"formatted\\\" title=\\\"\\\"><span class=\\\"numbers\\\">66.644</span></span>\",\"<span class=\\\"formatted\\\" title=\\\"\\\"><span class=\\\"numbers\\\">57.591</span></span>\",\"<span class=\\\"formatted\\\" title=\\\"\\\"><span class=\\\"numbers\\\">57.591</span></span>\",\"<span class=\\\"formatted\\\" title=\\\"\\\"><span class=\\\"numbers\\\">58.316</span></span>\",\"<span class=\\\"formatted\\\" title=\\\"\\\"><span class=\\\"numbers\\\">74.703</span></span>\",\"<span class=\\\"formatted\\\" title=\\\"\\\"><span class=\\\"numbers\\\">82.247</span></span>\"] }, \n",
       "{ name: \"<span title=\\\"stochastic: Double\\\">stochastic</span>\", children: [], rightAlign: true, values: [\"<span class=\\\"formatted\\\" title=\\\"\\\"><span class=\\\"numbers\\\">100.000</span></span>\",\"<span class=\\\"formatted\\\" title=\\\"\\\"><span class=\\\"numbers\\\">100.000</span></span>\",\"<span class=\\\"formatted\\\" title=\\\"\\\"><span class=\\\"numbers\\\">100.000</span></span>\",\"<span class=\\\"formatted\\\" title=\\\"\\\"><span class=\\\"numbers\\\">100.000</span></span>\",\"<span class=\\\"formatted\\\" title=\\\"\\\"><span class=\\\"numbers\\\">100.000</span></span>\",\"<span class=\\\"formatted\\\" title=\\\"\\\"><span class=\\\"numbers\\\">100.000</span></span>\",\"<span class=\\\"formatted\\\" title=\\\"\\\"><span class=\\\"numbers\\\">100.000</span></span>\",\"<span class=\\\"formatted\\\" title=\\\"\\\"><span class=\\\"numbers\\\">92.308</span></span>\",\"<span class=\\\"formatted\\\" title=\\\"\\\"><span class=\\\"numbers\\\">96.154</span></span>\",\"<span class=\\\"formatted\\\" title=\\\"\\\"><span class=\\\"numbers\\\">100.000</span></span>\",\"<span class=\\\"formatted\\\" title=\\\"\\\"><span class=\\\"numbers\\\">100.000</span></span>\",\"<span class=\\\"formatted\\\" title=\\\"\\\"><span class=\\\"numbers\\\">100.000</span></span>\",\"<span class=\\\"formatted\\\" title=\\\"\\\"><span class=\\\"numbers\\\">92.308</span></span>\",\"<span class=\\\"formatted\\\" title=\\\"\\\"><span class=\\\"numbers\\\">100.000</span></span>\",\"<span class=\\\"formatted\\\" title=\\\"\\\"><span class=\\\"numbers\\\">100.000</span></span>\",\"<span class=\\\"formatted\\\" title=\\\"\\\"><span class=\\\"numbers\\\">100.000</span></span>\",\"<span class=\\\"formatted\\\" title=\\\"\\\"><span class=\\\"numbers\\\">100.000</span></span>\",\"<span class=\\\"formatted\\\" title=\\\"\\\"><span class=\\\"numbers\\\">60.000</span></span>\",\"<span class=\\\"formatted\\\" title=\\\"\\\"><span class=\\\"numbers\\\">100.000</span></span>\",\"<span class=\\\"formatted\\\" title=\\\"\\\"><span class=\\\"numbers\\\">100.000</span></span>\"] }, \n",
       "{ name: \"<span title=\\\"bullishIndicators: String?\\\">bullishIndicators</span>\", children: [], rightAlign: false, values: [\"<span class=\\\"formatted\\\" title=\\\"\\\"><span class=\\\"null\\\">null</span></span>\",\"<span class=\\\"formatted\\\" title=\\\"\\\"><span class=\\\"null\\\">null</span></span>\",\"<span class=\\\"formatted\\\" title=\\\"\\\"><span class=\\\"null\\\">null</span></span>\",\"BullishCandle\",\"<span class=\\\"formatted\\\" title=\\\"\\\"><span class=\\\"null\\\">null</span></span>\",\"<span class=\\\"formatted\\\" title=\\\"\\\"><span class=\\\"null\\\">null</span></span>\",\"BullishCandle\",\"<span class=\\\"formatted\\\" title=\\\"\\\"><span class=\\\"null\\\">null</span></span>\",\"BearishOutsideReversal,BullishCandle\",\"BullishCandle\",\"<span class=\\\"formatted\\\" title=\\\"\\\"><span class=\\\"null\\\">null</span></span>\",\"<span class=\\\"formatted\\\" title=\\\"\\\"><span class=\\\"null\\\">null</span></span>\",\"<span class=\\\"formatted\\\" title=\\\"\\\"><span class=\\\"null\\\">null</span></span>\",\"<span class=\\\"formatted\\\" title=\\\"\\\"><span class=\\\"null\\\">null</span></span>\",\"<span class=\\\"formatted\\\" title=\\\"\\\"><span class=\\\"null\\\">null</span></span>\",\"<span class=\\\"formatted\\\" title=\\\"\\\"><span class=\\\"null\\\">null</span></span>\",\"<span class=\\\"formatted\\\" title=\\\"\\\"><span class=\\\"null\\\">null</span></span>\",\"<span class=\\\"formatted\\\" title=\\\"\\\"><span class=\\\"null\\\">null</span></span>\",\"BearishOutsideReversal\",\"<span class=\\\"formatted\\\" title=\\\"\\\"><span class=\\\"null\\\">null</span></span>\"] }, \n",
       "{ name: \"<span title=\\\"bearishIndicators: String?\\\">bearishIndicators</span>\", children: [], rightAlign: false, values: [\"<span class=\\\"formatted\\\" title=\\\"\\\"><span class=\\\"null\\\">null</span></span>\",\"<span class=\\\"formatted\\\" title=\\\"\\\"><span class=\\\"null\\\">null</span></span>\",\"<span class=\\\"formatted\\\" title=\\\"\\\"><span class=\\\"null\\\">null</span></span>\",\"<span class=\\\"formatted\\\" title=\\\"\\\"><span class=\\\"null\\\">null</span></span>\",\"<span class=\\\"formatted\\\" title=\\\"\\\"><span class=\\\"null\\\">null</span></span>\",\"<span class=\\\"formatted\\\" title=\\\"\\\"><span class=\\\"null\\\">null</span></span>\",\"<span class=\\\"formatted\\\" title=\\\"\\\"><span class=\\\"null\\\">null</span></span>\",\"{BullishOutsideReversal}\",\"<span class=\\\"formatted\\\" title=\\\"\\\"><span class=\\\"null\\\">null</span></span>\",\"<span class=\\\"formatted\\\" title=\\\"\\\"><span class=\\\"null\\\">null</span></span>\",\"<span class=\\\"formatted\\\" title=\\\"\\\"><span class=\\\"null\\\">null</span></span>\",\"<span class=\\\"formatted\\\" title=\\\"\\\"><span class=\\\"null\\\">null</span></span>\",\"<span class=\\\"formatted\\\" title=\\\"\\\"><span class=\\\"null\\\">null</span></span>\",\"<span class=\\\"formatted\\\" title=\\\"\\\"><span class=\\\"null\\\">null</span></span>\",\"<span class=\\\"formatted\\\" title=\\\"\\\"><span class=\\\"null\\\">null</span></span>\",\"<span class=\\\"formatted\\\" title=\\\"\\\"><span class=\\\"null\\\">null</span></span>\",\"<span class=\\\"formatted\\\" title=\\\"\\\"><span class=\\\"null\\\">null</span></span>\",\"<span class=\\\"formatted\\\" title=\\\"\\\"><span class=\\\"null\\\">null</span></span>\",\"<span class=\\\"formatted\\\" title=\\\"\\\"><span class=\\\"null\\\">null</span></span>\",\"<span class=\\\"formatted\\\" title=\\\"\\\"><span class=\\\"null\\\">null</span></span>\"] }, \n",
       "{ name: \"<span title=\\\"neutralIndicators: String?\\\">neutralIndicators</span>\", children: [], rightAlign: false, values: [\"<span class=\\\"formatted\\\" title=\\\"\\\"><span class=\\\"null\\\">null</span></span>\",\"<span class=\\\"formatted\\\" title=\\\"\\\"><span class=\\\"null\\\">null</span></span>\",\"<span class=\\\"formatted\\\" title=\\\"\\\"><span class=\\\"null\\\">null</span></span>\",\"<span class=\\\"formatted\\\" title=\\\"\\\"><span class=\\\"null\\\">null</span></span>\",\"<span class=\\\"formatted\\\" title=\\\"\\\"><span class=\\\"null\\\">null</span></span>\",\"<span class=\\\"formatted\\\" title=\\\"\\\"><span class=\\\"null\\\">null</span></span>\",\"<span class=\\\"formatted\\\" title=\\\"\\\"><span class=\\\"null\\\">null</span></span>\",\"<span class=\\\"formatted\\\" title=\\\"\\\"><span class=\\\"null\\\">null</span></span>\",\"<span class=\\\"formatted\\\" title=\\\"\\\"><span class=\\\"null\\\">null</span></span>\",\"<span class=\\\"formatted\\\" title=\\\"\\\"><span class=\\\"null\\\">null</span></span>\",\"<span class=\\\"formatted\\\" title=\\\"\\\"><span class=\\\"null\\\">null</span></span>\",\"<span class=\\\"formatted\\\" title=\\\"\\\"><span class=\\\"null\\\">null</span></span>\",\"<span class=\\\"formatted\\\" title=\\\"\\\"><span class=\\\"null\\\">null</span></span>\",\"<span class=\\\"formatted\\\" title=\\\"\\\"><span class=\\\"null\\\">null</span></span>\",\"<span class=\\\"formatted\\\" title=\\\"\\\"><span class=\\\"null\\\">null</span></span>\",\"<span class=\\\"formatted\\\" title=\\\"\\\"><span class=\\\"null\\\">null</span></span>\",\"<span class=\\\"formatted\\\" title=\\\"\\\"><span class=\\\"null\\\">null</span></span>\",\"<span class=\\\"formatted\\\" title=\\\"\\\"><span class=\\\"null\\\">null</span></span>\",\"<span class=\\\"formatted\\\" title=\\\"\\\"><span class=\\\"null\\\">null</span></span>\",\"<span class=\\\"formatted\\\" title=\\\"\\\"><span class=\\\"null\\\">null</span></span>\"] }, \n",
       "{ name: \"<span title=\\\"5: Double\\\">5</span>\", children: [], rightAlign: true, values: [\"<span class=\\\"formatted\\\" title=\\\"\\\"><span class=\\\"numbers\\\">0.859</span></span>\",\"<span class=\\\"formatted\\\" title=\\\"\\\"><span class=\\\"numbers\\\">0.866</span></span>\",\"<span class=\\\"formatted\\\" title=\\\"\\\"><span class=\\\"numbers\\\">0.881</span></span>\",\"<span class=\\\"formatted\\\" title=\\\"\\\"><span class=\\\"numbers\\\">0.925</span></span>\",\"<span class=\\\"formatted\\\" title=\\\"\\\"><span class=\\\"numbers\\\">0.966</span></span>\",\"<span class=\\\"formatted\\\" title=\\\"\\\"><span class=\\\"numbers\\\">1.034</span></span>\",\"<span class=\\\"formatted\\\" title=\\\"\\\"><span class=\\\"numbers\\\">1.097</span></span>\",\"<span class=\\\"formatted\\\" title=\\\"\\\"><span class=\\\"numbers\\\">1.163</span></span>\",\"<span class=\\\"formatted\\\" title=\\\"\\\"><span class=\\\"numbers\\\">1.191</span></span>\",\"<span class=\\\"formatted\\\" title=\\\"\\\"><span class=\\\"numbers\\\">1.219</span></span>\",\"<span class=\\\"formatted\\\" title=\\\"\\\"><span class=\\\"numbers\\\">1.222</span></span>\",\"<span class=\\\"formatted\\\" title=\\\"\\\"><span class=\\\"numbers\\\">1.228</span></span>\",\"<span class=\\\"formatted\\\" title=\\\"\\\"><span class=\\\"numbers\\\">1.238</span></span>\",\"<span class=\\\"formatted\\\" title=\\\"\\\"><span class=\\\"numbers\\\">1.247</span></span>\",\"<span class=\\\"formatted\\\" title=\\\"\\\"><span class=\\\"numbers\\\">1.259</span></span>\",\"<span class=\\\"formatted\\\" title=\\\"\\\"><span class=\\\"numbers\\\">1.269</span></span>\",\"<span class=\\\"formatted\\\" title=\\\"\\\"><span class=\\\"numbers\\\">1.275</span></span>\",\"<span class=\\\"formatted\\\" title=\\\"\\\"><span class=\\\"numbers\\\">1.275</span></span>\",\"<span class=\\\"formatted\\\" title=\\\"\\\"><span class=\\\"numbers\\\">1.275</span></span>\",\"<span class=\\\"formatted\\\" title=\\\"\\\"><span class=\\\"numbers\\\">1.294</span></span>\"] }, \n",
       "{ name: \"<span title=\\\"7: Double\\\">7</span>\", children: [], rightAlign: true, values: [\"<span class=\\\"formatted\\\" title=\\\"\\\"><span class=\\\"numbers\\\">0.864</span></span>\",\"<span class=\\\"formatted\\\" title=\\\"\\\"><span class=\\\"numbers\\\">0.868</span></span>\",\"<span class=\\\"formatted\\\" title=\\\"\\\"><span class=\\\"numbers\\\">0.873</span></span>\",\"<span class=\\\"formatted\\\" title=\\\"\\\"><span class=\\\"numbers\\\">0.900</span></span>\",\"<span class=\\\"formatted\\\" title=\\\"\\\"><span class=\\\"numbers\\\">0.935</span></span>\",\"<span class=\\\"formatted\\\" title=\\\"\\\"><span class=\\\"numbers\\\">0.989</span></span>\",\"<span class=\\\"formatted\\\" title=\\\"\\\"><span class=\\\"numbers\\\">1.038</span></span>\",\"<span class=\\\"formatted\\\" title=\\\"\\\"><span class=\\\"numbers\\\">1.089</span></span>\",\"<span class=\\\"formatted\\\" title=\\\"\\\"><span class=\\\"numbers\\\">1.132</span></span>\",\"<span class=\\\"formatted\\\" title=\\\"\\\"><span class=\\\"numbers\\\">1.176</span></span>\",\"<span class=\\\"formatted\\\" title=\\\"\\\"><span class=\\\"numbers\\\">1.201</span></span>\",\"<span class=\\\"formatted\\\" title=\\\"\\\"><span class=\\\"numbers\\\">1.225</span></span>\",\"<span class=\\\"formatted\\\" title=\\\"\\\"><span class=\\\"numbers\\\">1.234</span></span>\",\"<span class=\\\"formatted\\\" title=\\\"\\\"><span class=\\\"numbers\\\">1.239</span></span>\",\"<span class=\\\"formatted\\\" title=\\\"\\\"><span class=\\\"numbers\\\">1.246</span></span>\",\"<span class=\\\"formatted\\\" title=\\\"\\\"><span class=\\\"numbers\\\">1.257</span></span>\",\"<span class=\\\"formatted\\\" title=\\\"\\\"><span class=\\\"numbers\\\">1.266</span></span>\",\"<span class=\\\"formatted\\\" title=\\\"\\\"><span class=\\\"numbers\\\">1.272</span></span>\",\"<span class=\\\"formatted\\\" title=\\\"\\\"><span class=\\\"numbers\\\">1.272</span></span>\",\"<span class=\\\"formatted\\\" title=\\\"\\\"><span class=\\\"numbers\\\">1.286</span></span>\"] }, \n",
       "{ name: \"<span title=\\\"movingAvg: DataRow\\\">movingAvg</span>\", children: [19, 20], rightAlign: false, values: [\"<span class=\\\"formatted\\\" title=\\\"5: 0.859\\n7: 0.864\\\"><span class=\\\"structural\\\">{ </span><span class=\\\"structural\\\">5: </span><span class=\\\"numbers\\\">0.9</span><span class=\\\"structural\\\">, </span><span class=\\\"structural\\\">7: </span><span class=\\\"numbers\\\">0.9</span><span class=\\\"structural\\\"> }</span></span>\",\"<span class=\\\"formatted\\\" title=\\\"5: 0.866\\n7: 0.868\\\"><span class=\\\"structural\\\">{ </span><span class=\\\"structural\\\">5: </span><span class=\\\"numbers\\\">0.9</span><span class=\\\"structural\\\">, </span><span class=\\\"structural\\\">7: </span><span class=\\\"numbers\\\">0.9</span><span class=\\\"structural\\\"> }</span></span>\",\"<span class=\\\"formatted\\\" title=\\\"5: 0.881\\n7: 0.873\\\"><span class=\\\"structural\\\">{ </span><span class=\\\"structural\\\">5: </span><span class=\\\"numbers\\\">0.9</span><span class=\\\"structural\\\">, </span><span class=\\\"structural\\\">7: </span><span class=\\\"numbers\\\">0.9</span><span class=\\\"structural\\\"> }</span></span>\",\"<span class=\\\"formatted\\\" title=\\\"5: 0.925\\n7: 0.9\\\"><span class=\\\"structural\\\">{ </span><span class=\\\"structural\\\">5: </span><span class=\\\"numbers\\\">0.9</span><span class=\\\"structural\\\">, </span><span class=\\\"structural\\\">7: </span><span class=\\\"numbers\\\">0.9</span><span class=\\\"structural\\\"> }</span></span>\",\"<span class=\\\"formatted\\\" title=\\\"5: 0.966\\n7: 0.935\\\"><span class=\\\"structural\\\">{ </span><span class=\\\"structural\\\">5: </span><span class=\\\"numbers\\\">1.0</span><span class=\\\"structural\\\">, </span><span class=\\\"structural\\\">7: </span><span class=\\\"numbers\\\">0.9</span><span class=\\\"structural\\\"> }</span></span>\",\"<span class=\\\"formatted\\\" title=\\\"5: 1.034\\n7: 0.989\\\"><span class=\\\"structural\\\">{ </span><span class=\\\"structural\\\">5: </span><span class=\\\"numbers\\\">1.0</span><span class=\\\"structural\\\">, </span><span class=\\\"structural\\\">7: </span><span class=\\\"numbers\\\">1.0</span><span class=\\\"structural\\\"> }</span></span>\",\"<span class=\\\"formatted\\\" title=\\\"5: 1.097\\n7: 1.038\\\"><span class=\\\"structural\\\">{ </span><span class=\\\"structural\\\">5: </span><span class=\\\"numbers\\\">1.1</span><span class=\\\"structural\\\">, </span><span class=\\\"structural\\\">7: </span><span class=\\\"numbers\\\">1.0</span><span class=\\\"structural\\\"> }</span></span>\",\"<span class=\\\"formatted\\\" title=\\\"5: 1.163\\n7: 1.089\\\"><span class=\\\"structural\\\">{ </span><span class=\\\"structural\\\">5: </span><span class=\\\"numbers\\\">1.2</span><span class=\\\"structural\\\">, </span><span class=\\\"structural\\\">7: </span><span class=\\\"numbers\\\">1.1</span><span class=\\\"structural\\\"> }</span></span>\",\"<span class=\\\"formatted\\\" title=\\\"5: 1.191\\n7: 1.132\\\"><span class=\\\"structural\\\">{ </span><span class=\\\"structural\\\">5: </span><span class=\\\"numbers\\\">1.2</span><span class=\\\"structural\\\">, </span><span class=\\\"structural\\\">7: </span><span class=\\\"numbers\\\">1.1</span><span class=\\\"structural\\\"> }</span></span>\",\"<span class=\\\"formatted\\\" title=\\\"5: 1.219\\n7: 1.176\\\"><span class=\\\"structural\\\">{ </span><span class=\\\"structural\\\">5: </span><span class=\\\"numbers\\\">1.2</span><span class=\\\"structural\\\">, </span><span class=\\\"structural\\\">7: </span><span class=\\\"numbers\\\">1.2</span><span class=\\\"structural\\\"> }</span></span>\",\"<span class=\\\"formatted\\\" title=\\\"5: 1.222\\n7: 1.201\\\"><span class=\\\"structural\\\">{ </span><span class=\\\"structural\\\">5: </span><span class=\\\"numbers\\\">1.2</span><span class=\\\"structural\\\">, </span><span class=\\\"structural\\\">7: </span><span class=\\\"numbers\\\">1.2</span><span class=\\\"structural\\\"> }</span></span>\",\"<span class=\\\"formatted\\\" title=\\\"5: 1.228\\n7: 1.225\\\"><span class=\\\"structural\\\">{ </span><span class=\\\"structural\\\">5: </span><span class=\\\"numbers\\\">1.2</span><span class=\\\"structural\\\">, </span><span class=\\\"structural\\\">7: </span><span class=\\\"numbers\\\">1.2</span><span class=\\\"structural\\\"> }</span></span>\",\"<span class=\\\"formatted\\\" title=\\\"5: 1.238\\n7: 1.234\\\"><span class=\\\"structural\\\">{ </span><span class=\\\"structural\\\">5: </span><span class=\\\"numbers\\\">1.2</span><span class=\\\"structural\\\">, </span><span class=\\\"structural\\\">7: </span><span class=\\\"numbers\\\">1.2</span><span class=\\\"structural\\\"> }</span></span>\",\"<span class=\\\"formatted\\\" title=\\\"5: 1.247\\n7: 1.239\\\"><span class=\\\"structural\\\">{ </span><span class=\\\"structural\\\">5: </span><span class=\\\"numbers\\\">1.2</span><span class=\\\"structural\\\">, </span><span class=\\\"structural\\\">7: </span><span class=\\\"numbers\\\">1.2</span><span class=\\\"structural\\\"> }</span></span>\",\"<span class=\\\"formatted\\\" title=\\\"5: 1.259\\n7: 1.246\\\"><span class=\\\"structural\\\">{ </span><span class=\\\"structural\\\">5: </span><span class=\\\"numbers\\\">1.3</span><span class=\\\"structural\\\">, </span><span class=\\\"structural\\\">7: </span><span class=\\\"numbers\\\">1.2</span><span class=\\\"structural\\\"> }</span></span>\",\"<span class=\\\"formatted\\\" title=\\\"5: 1.269\\n7: 1.257\\\"><span class=\\\"structural\\\">{ </span><span class=\\\"structural\\\">5: </span><span class=\\\"numbers\\\">1.3</span><span class=\\\"structural\\\">, </span><span class=\\\"structural\\\">7: </span><span class=\\\"numbers\\\">1.3</span><span class=\\\"structural\\\"> }</span></span>\",\"<span class=\\\"formatted\\\" title=\\\"5: 1.275\\n7: 1.266\\\"><span class=\\\"structural\\\">{ </span><span class=\\\"structural\\\">5: </span><span class=\\\"numbers\\\">1.3</span><span class=\\\"structural\\\">, </span><span class=\\\"structural\\\">7: </span><span class=\\\"numbers\\\">1.3</span><span class=\\\"structural\\\"> }</span></span>\",\"<span class=\\\"formatted\\\" title=\\\"5: 1.275\\n7: 1.272\\\"><span class=\\\"structural\\\">{ </span><span class=\\\"structural\\\">5: </span><span class=\\\"numbers\\\">1.3</span><span class=\\\"structural\\\">, </span><span class=\\\"structural\\\">7: </span><span class=\\\"numbers\\\">1.3</span><span class=\\\"structural\\\"> }</span></span>\",\"<span class=\\\"formatted\\\" title=\\\"5: 1.275\\n7: 1.272\\\"><span class=\\\"structural\\\">{ </span><span class=\\\"structural\\\">5: </span><span class=\\\"numbers\\\">1.3</span><span class=\\\"structural\\\">, </span><span class=\\\"structural\\\">7: </span><span class=\\\"numbers\\\">1.3</span><span class=\\\"structural\\\"> }</span></span>\",\"<span class=\\\"formatted\\\" title=\\\"5: 1.294\\n7: 1.286\\\"><span class=\\\"structural\\\">{ </span><span class=\\\"structural\\\">5: </span><span class=\\\"numbers\\\">1.3</span><span class=\\\"structural\\\">, </span><span class=\\\"structural\\\">7: </span><span class=\\\"numbers\\\">1.3</span><span class=\\\"structural\\\"> }</span></span>\"] }, \n",
       "{ name: \"<span title=\\\"additionalData: DataRow\\\">additionalData</span>\", children: [21], rightAlign: false, values: [\"<span class=\\\"formatted\\\" title=\\\"movingAvg: { 5:0.859000, 7:0.864000 }\\\"><span class=\\\"structural\\\">{ </span><span class=\\\"structural\\\">movingAvg: </span><span class=\\\"structural\\\">{ </span><span class=\\\"structural\\\">5: </span><span class=\\\"numbers\\\">0.9</span><span class=\\\"structural\\\">, </span><span class=\\\"structural\\\">7: </span><span class=\\\"numbers\\\">0.9</span><span class=\\\"structural\\\"> }</span><span class=\\\"structural\\\"> }</span></span>\",\"<span class=\\\"formatted\\\" title=\\\"movingAvg: { 5:0.866000, 7:0.868000 }\\\"><span class=\\\"structural\\\">{ </span><span class=\\\"structural\\\">movingAvg: </span><span class=\\\"structural\\\">{ </span><span class=\\\"structural\\\">5: </span><span class=\\\"numbers\\\">0.9</span><span class=\\\"structural\\\">, </span><span class=\\\"structural\\\">7: </span><span class=\\\"numbers\\\">0.9</span><span class=\\\"structural\\\"> }</span><span class=\\\"structural\\\"> }</span></span>\",\"<span class=\\\"formatted\\\" title=\\\"movingAvg: { 5:0.881000, 7:0.873000 }\\\"><span class=\\\"structural\\\">{ </span><span class=\\\"structural\\\">movingAvg: </span><span class=\\\"structural\\\">{ </span><span class=\\\"structural\\\">5: </span><span class=\\\"numbers\\\">0.9</span><span class=\\\"structural\\\">, </span><span class=\\\"structural\\\">7: </span><span class=\\\"numbers\\\">0.9</span><span class=\\\"structural\\\"> }</span><span class=\\\"structural\\\"> }</span></span>\",\"<span class=\\\"formatted\\\" title=\\\"movingAvg: { 5:0.925000, 7:0.900000 }\\\"><span class=\\\"structural\\\">{ </span><span class=\\\"structural\\\">movingAvg: </span><span class=\\\"structural\\\">{ </span><span class=\\\"structural\\\">5: </span><span class=\\\"numbers\\\">0.9</span><span class=\\\"structural\\\">, </span><span class=\\\"structural\\\">7: </span><span class=\\\"numbers\\\">0.9</span><span class=\\\"structural\\\"> }</span><span class=\\\"structural\\\"> }</span></span>\",\"<span class=\\\"formatted\\\" title=\\\"movingAvg: { 5:0.966000, 7:0.935000 }\\\"><span class=\\\"structural\\\">{ </span><span class=\\\"structural\\\">movingAvg: </span><span class=\\\"structural\\\">{ </span><span class=\\\"structural\\\">5: </span><span class=\\\"numbers\\\">1.0</span><span class=\\\"structural\\\">, </span><span class=\\\"structural\\\">7: </span><span class=\\\"numbers\\\">0.9</span><span class=\\\"structural\\\"> }</span><span class=\\\"structural\\\"> }</span></span>\",\"<span class=\\\"formatted\\\" title=\\\"movingAvg: { 5:1.034000, 7:0.989000 }\\\"><span class=\\\"structural\\\">{ </span><span class=\\\"structural\\\">movingAvg: </span><span class=\\\"structural\\\">{ </span><span class=\\\"structural\\\">5: </span><span class=\\\"numbers\\\">1.0</span><span class=\\\"structural\\\">, </span><span class=\\\"structural\\\">7: </span><span class=\\\"numbers\\\">1.0</span><span class=\\\"structural\\\"> }</span><span class=\\\"structural\\\"> }</span></span>\",\"<span class=\\\"formatted\\\" title=\\\"movingAvg: { 5:1.097000, 7:1.038000 }\\\"><span class=\\\"structural\\\">{ </span><span class=\\\"structural\\\">movingAvg: </span><span class=\\\"structural\\\">{ </span><span class=\\\"structural\\\">5: </span><span class=\\\"numbers\\\">1.1</span><span class=\\\"structural\\\">, </span><span class=\\\"structural\\\">7: </span><span class=\\\"numbers\\\">1.0</span><span class=\\\"structural\\\"> }</span><span class=\\\"structural\\\"> }</span></span>\",\"<span class=\\\"formatted\\\" title=\\\"movingAvg: { 5:1.163000, 7:1.089000 }\\\"><span class=\\\"structural\\\">{ </span><span class=\\\"structural\\\">movingAvg: </span><span class=\\\"structural\\\">{ </span><span class=\\\"structural\\\">5: </span><span class=\\\"numbers\\\">1.2</span><span class=\\\"structural\\\">, </span><span class=\\\"structural\\\">7: </span><span class=\\\"numbers\\\">1.1</span><span class=\\\"structural\\\"> }</span><span class=\\\"structural\\\"> }</span></span>\",\"<span class=\\\"formatted\\\" title=\\\"movingAvg: { 5:1.191000, 7:1.132000 }\\\"><span class=\\\"structural\\\">{ </span><span class=\\\"structural\\\">movingAvg: </span><span class=\\\"structural\\\">{ </span><span class=\\\"structural\\\">5: </span><span class=\\\"numbers\\\">1.2</span><span class=\\\"structural\\\">, </span><span class=\\\"structural\\\">7: </span><span class=\\\"numbers\\\">1.1</span><span class=\\\"structural\\\"> }</span><span class=\\\"structural\\\"> }</span></span>\",\"<span class=\\\"formatted\\\" title=\\\"movingAvg: { 5:1.219000, 7:1.176000 }\\\"><span class=\\\"structural\\\">{ </span><span class=\\\"structural\\\">movingAvg: </span><span class=\\\"structural\\\">{ </span><span class=\\\"structural\\\">5: </span><span class=\\\"numbers\\\">1.2</span><span class=\\\"structural\\\">, </span><span class=\\\"structural\\\">7: </span><span class=\\\"numbers\\\">1.2</span><span class=\\\"structural\\\"> }</span><span class=\\\"structural\\\"> }</span></span>\",\"<span class=\\\"formatted\\\" title=\\\"movingAvg: { 5:1.222000, 7:1.201000 }\\\"><span class=\\\"structural\\\">{ </span><span class=\\\"structural\\\">movingAvg: </span><span class=\\\"structural\\\">{ </span><span class=\\\"structural\\\">5: </span><span class=\\\"numbers\\\">1.2</span><span class=\\\"structural\\\">, </span><span class=\\\"structural\\\">7: </span><span class=\\\"numbers\\\">1.2</span><span class=\\\"structural\\\"> }</span><span class=\\\"structural\\\"> }</span></span>\",\"<span class=\\\"formatted\\\" title=\\\"movingAvg: { 5:1.228000, 7:1.225000 }\\\"><span class=\\\"structural\\\">{ </span><span class=\\\"structural\\\">movingAvg: </span><span class=\\\"structural\\\">{ </span><span class=\\\"structural\\\">5: </span><span class=\\\"numbers\\\">1.2</span><span class=\\\"structural\\\">, </span><span class=\\\"structural\\\">7: </span><span class=\\\"numbers\\\">1.2</span><span class=\\\"structural\\\"> }</span><span class=\\\"structural\\\"> }</span></span>\",\"<span class=\\\"formatted\\\" title=\\\"movingAvg: { 5:1.238000, 7:1.234000 }\\\"><span class=\\\"structural\\\">{ </span><span class=\\\"structural\\\">movingAvg: </span><span class=\\\"structural\\\">{ </span><span class=\\\"structural\\\">5: </span><span class=\\\"numbers\\\">1.2</span><span class=\\\"structural\\\">, </span><span class=\\\"structural\\\">7: </span><span class=\\\"numbers\\\">1.2</span><span class=\\\"structural\\\"> }</span><span class=\\\"structural\\\"> }</span></span>\",\"<span class=\\\"formatted\\\" title=\\\"movingAvg: { 5:1.247000, 7:1.239000 }\\\"><span class=\\\"structural\\\">{ </span><span class=\\\"structural\\\">movingAvg: </span><span class=\\\"structural\\\">{ </span><span class=\\\"structural\\\">5: </span><span class=\\\"numbers\\\">1.2</span><span class=\\\"structural\\\">, </span><span class=\\\"structural\\\">7: </span><span class=\\\"numbers\\\">1.2</span><span class=\\\"structural\\\"> }</span><span class=\\\"structural\\\"> }</span></span>\",\"<span class=\\\"formatted\\\" title=\\\"movingAvg: { 5:1.259000, 7:1.246000 }\\\"><span class=\\\"structural\\\">{ </span><span class=\\\"structural\\\">movingAvg: </span><span class=\\\"structural\\\">{ </span><span class=\\\"structural\\\">5: </span><span class=\\\"numbers\\\">1.3</span><span class=\\\"structural\\\">, </span><span class=\\\"structural\\\">7: </span><span class=\\\"numbers\\\">1.2</span><span class=\\\"structural\\\"> }</span><span class=\\\"structural\\\"> }</span></span>\",\"<span class=\\\"formatted\\\" title=\\\"movingAvg: { 5:1.269000, 7:1.257000 }\\\"><span class=\\\"structural\\\">{ </span><span class=\\\"structural\\\">movingAvg: </span><span class=\\\"structural\\\">{ </span><span class=\\\"structural\\\">5: </span><span class=\\\"numbers\\\">1.3</span><span class=\\\"structural\\\">, </span><span class=\\\"structural\\\">7: </span><span class=\\\"numbers\\\">1.3</span><span class=\\\"structural\\\"> }</span><span class=\\\"structural\\\"> }</span></span>\",\"<span class=\\\"formatted\\\" title=\\\"movingAvg: { 5:1.275000, 7:1.266000 }\\\"><span class=\\\"structural\\\">{ </span><span class=\\\"structural\\\">movingAvg: </span><span class=\\\"structural\\\">{ </span><span class=\\\"structural\\\">5: </span><span class=\\\"numbers\\\">1.3</span><span class=\\\"structural\\\">, </span><span class=\\\"structural\\\">7: </span><span class=\\\"numbers\\\">1.3</span><span class=\\\"structural\\\"> }</span><span class=\\\"structural\\\"> }</span></span>\",\"<span class=\\\"formatted\\\" title=\\\"movingAvg: { 5:1.275000, 7:1.272000 }\\\"><span class=\\\"structural\\\">{ </span><span class=\\\"structural\\\">movingAvg: </span><span class=\\\"structural\\\">{ </span><span class=\\\"structural\\\">5: </span><span class=\\\"numbers\\\">1.3</span><span class=\\\"structural\\\">, </span><span class=\\\"structural\\\">7: </span><span class=\\\"numbers\\\">1.3</span><span class=\\\"structural\\\"> }</span><span class=\\\"structural\\\"> }</span></span>\",\"<span class=\\\"formatted\\\" title=\\\"movingAvg: { 5:1.275000, 7:1.272000 }\\\"><span class=\\\"structural\\\">{ </span><span class=\\\"structural\\\">movingAvg: </span><span class=\\\"structural\\\">{ </span><span class=\\\"structural\\\">5: </span><span class=\\\"numbers\\\">1.3</span><span class=\\\"structural\\\">, </span><span class=\\\"structural\\\">7: </span><span class=\\\"numbers\\\">1.3</span><span class=\\\"structural\\\"> }</span><span class=\\\"structural\\\"> }</span></span>\",\"<span class=\\\"formatted\\\" title=\\\"movingAvg: { 5:1.294000, 7:1.286000 }\\\"><span class=\\\"structural\\\">{ </span><span class=\\\"structural\\\">movingAvg: </span><span class=\\\"structural\\\">{ </span><span class=\\\"structural\\\">5: </span><span class=\\\"numbers\\\">1.3</span><span class=\\\"structural\\\">, </span><span class=\\\"structural\\\">7: </span><span class=\\\"numbers\\\">1.3</span><span class=\\\"structural\\\"> }</span><span class=\\\"structural\\\"> }</span></span>\"] }, \n",
       "], id: -1811939323, rootId: -1811939323 } ) });\n",
       "/*-->*/\n",
       "\n",
       "call_DataFrame(function() { DataFrame.renderTable(-1811939323) });\n",
       "\n",
       "\n",
       "        </script>\n",
       "        </html>"
      ]
     },
     "execution_count": 16,
     "metadata": {},
     "output_type": "execute_result"
    }
   ],
   "source": [
    "df.update{bullishIndicators}.where{bullishIndicators != null}.with{ it?.removePrefix(\"{\")?.removeSuffix(\"}\") }"
   ]
  },
  {
   "cell_type": "code",
   "execution_count": 17,
   "id": "978d1e16-d143-4cde-87d3-e087e64414ea",
   "metadata": {},
   "outputs": [
    {
     "data": {
      "text/html": [
       "        <html>\n",
       "        <head>\n",
       "            <style type=\"text/css\">\n",
       "                \n",
       "\n",
       "            </style>\n",
       "        </head>\n",
       "        <body>\n",
       "            <table class=\"dataframe\" id=\"df_-1811939322\"></table>\n",
       "\n",
       "<p>... showing only top 20 of 382 rows</p><p>DataFrame [382 x 6]</p>\n",
       "        </body>\n",
       "        <script>\n",
       "            /*<!--*/\n",
       "call_DataFrame(function() { DataFrame.addTable({ cols: [{ name: \"<span title=\\\"date: kotlinx.datetime.LocalDate\\\">date</span>\", children: [], rightAlign: false, values: [\"2022-02-28\",\"2022-02-14\",\"2022-02-07\",\"2021-11-08\",\"2021-05-17\",\"2021-05-10\",\"2021-05-03\",\"2020-09-08\",\"2020-08-31\",\"2020-08-24\",\"2020-08-17\",\"2020-08-03\",\"2020-07-27\",\"2020-07-20\",\"2020-05-11\",\"2020-05-04\",\"2020-04-27\",\"2020-04-20\",\"2020-04-13\",\"2020-04-06\"] }, \n",
       "{ name: \"<span title=\\\"close: Double\\\">close</span>\", children: [], rightAlign: true, values: [\"<span class=\\\"formatted\\\" title=\\\"\\\"><span class=\\\"numbers\\\">24.200001</span></span>\",\"<span class=\\\"formatted\\\" title=\\\"\\\"><span class=\\\"numbers\\\">23.139999</span></span>\",\"<span class=\\\"formatted\\\" title=\\\"\\\"><span class=\\\"numbers\\\">20.680000</span></span>\",\"<span class=\\\"formatted\\\" title=\\\"\\\"><span class=\\\"numbers\\\">20.750000</span></span>\",\"<span class=\\\"formatted\\\" title=\\\"\\\"><span class=\\\"numbers\\\">24.700001</span></span>\",\"<span class=\\\"formatted\\\" title=\\\"\\\"><span class=\\\"numbers\\\">24.020000</span></span>\",\"<span class=\\\"formatted\\\" title=\\\"\\\"><span class=\\\"numbers\\\">23.920000</span></span>\",\"<span class=\\\"formatted\\\" title=\\\"\\\"><span class=\\\"numbers\\\">29.750000</span></span>\",\"<span class=\\\"formatted\\\" title=\\\"\\\"><span class=\\\"numbers\\\">29.049999</span></span>\",\"<span class=\\\"formatted\\\" title=\\\"\\\"><span class=\\\"numbers\\\">29.200001</span></span>\",\"<span class=\\\"formatted\\\" title=\\\"\\\"><span class=\\\"numbers\\\">29.309999</span></span>\",\"<span class=\\\"formatted\\\" title=\\\"\\\"><span class=\\\"numbers\\\">28.870001</span></span>\",\"<span class=\\\"formatted\\\" title=\\\"\\\"><span class=\\\"numbers\\\">28.910000</span></span>\",\"<span class=\\\"formatted\\\" title=\\\"\\\"><span class=\\\"numbers\\\">28.440001</span></span>\",\"<span class=\\\"formatted\\\" title=\\\"\\\"><span class=\\\"numbers\\\">28.040001</span></span>\",\"<span class=\\\"formatted\\\" title=\\\"\\\"><span class=\\\"numbers\\\">27.389999</span></span>\",\"<span class=\\\"formatted\\\" title=\\\"\\\"><span class=\\\"numbers\\\">26.930000</span></span>\",\"<span class=\\\"formatted\\\" title=\\\"\\\"><span class=\\\"numbers\\\">27.100000</span></span>\",\"<span class=\\\"formatted\\\" title=\\\"\\\"><span class=\\\"numbers\\\">24.540001</span></span>\",\"<span class=\\\"formatted\\\" title=\\\"\\\"><span class=\\\"numbers\\\">22.510000</span></span>\"] }, \n",
       "{ name: \"<span title=\\\"delta: Double\\\">delta</span>\", children: [], rightAlign: true, values: [\"<span class=\\\"formatted\\\" title=\\\"\\\"><span class=\\\"numbers\\\">7.270</span></span>\",\"<span class=\\\"formatted\\\" title=\\\"\\\"><span class=\\\"numbers\\\">11.896</span></span>\",\"<span class=\\\"formatted\\\" title=\\\"\\\"><span class=\\\"numbers\\\">7.764</span></span>\",\"<span class=\\\"formatted\\\" title=\\\"\\\"><span class=\\\"numbers\\\">5.867</span></span>\",\"<span class=\\\"formatted\\\" title=\\\"\\\"><span class=\\\"numbers\\\">2.831</span></span>\",\"<span class=\\\"formatted\\\" title=\\\"\\\"><span class=\\\"numbers\\\">0.418</span></span>\",\"<span class=\\\"formatted\\\" title=\\\"\\\"><span class=\\\"numbers\\\">12.565</span></span>\",\"<span class=\\\"formatted\\\" title=\\\"\\\"><span class=\\\"numbers\\\">2.410</span></span>\",\"<span class=\\\"formatted\\\" title=\\\"\\\"><span class=\\\"numbers\\\">-0.514</span></span>\",\"<span class=\\\"formatted\\\" title=\\\"\\\"><span class=\\\"numbers\\\">-0.375</span></span>\",\"<span class=\\\"formatted\\\" title=\\\"\\\"><span class=\\\"numbers\\\">8.596</span></span>\",\"<span class=\\\"formatted\\\" title=\\\"\\\"><span class=\\\"numbers\\\">-0.138</span></span>\",\"<span class=\\\"formatted\\\" title=\\\"\\\"><span class=\\\"numbers\\\">1.653</span></span>\",\"<span class=\\\"formatted\\\" title=\\\"\\\"><span class=\\\"numbers\\\">4.023</span></span>\",\"<span class=\\\"formatted\\\" title=\\\"\\\"><span class=\\\"numbers\\\">2.373</span></span>\",\"<span class=\\\"formatted\\\" title=\\\"\\\"><span class=\\\"numbers\\\">1.708</span></span>\",\"<span class=\\\"formatted\\\" title=\\\"\\\"><span class=\\\"numbers\\\">-0.627</span></span>\",\"<span class=\\\"formatted\\\" title=\\\"\\\"><span class=\\\"numbers\\\">10.432</span></span>\",\"<span class=\\\"formatted\\\" title=\\\"\\\"><span class=\\\"numbers\\\">9.018</span></span>\",\"<span class=\\\"formatted\\\" title=\\\"\\\"><span class=\\\"numbers\\\">12.832</span></span>\"] }, \n",
       "{ name: \"<span title=\\\"stochastic: Double\\\">stochastic</span>\", children: [], rightAlign: true, values: [\"<span class=\\\"formatted\\\" title=\\\"\\\"><span class=\\\"numbers\\\">100.000</span></span>\",\"<span class=\\\"formatted\\\" title=\\\"\\\"><span class=\\\"numbers\\\">100.000</span></span>\",\"<span class=\\\"formatted\\\" title=\\\"\\\"><span class=\\\"numbers\\\">97.500</span></span>\",\"<span class=\\\"formatted\\\" title=\\\"\\\"><span class=\\\"numbers\\\">100.000</span></span>\",\"<span class=\\\"formatted\\\" title=\\\"\\\"><span class=\\\"numbers\\\">100.000</span></span>\",\"<span class=\\\"formatted\\\" title=\\\"\\\"><span class=\\\"numbers\\\">100.000</span></span>\",\"<span class=\\\"formatted\\\" title=\\\"\\\"><span class=\\\"numbers\\\">100.000</span></span>\",\"<span class=\\\"formatted\\\" title=\\\"\\\"><span class=\\\"numbers\\\">100.000</span></span>\",\"<span class=\\\"formatted\\\" title=\\\"\\\"><span class=\\\"numbers\\\">95.681</span></span>\",\"<span class=\\\"formatted\\\" title=\\\"\\\"><span class=\\\"numbers\\\">98.173</span></span>\",\"<span class=\\\"formatted\\\" title=\\\"\\\"><span class=\\\"numbers\\\">100.000</span></span>\",\"<span class=\\\"formatted\\\" title=\\\"\\\"><span class=\\\"numbers\\\">99.288</span></span>\",\"<span class=\\\"formatted\\\" title=\\\"\\\"><span class=\\\"numbers\\\">100.000</span></span>\",\"<span class=\\\"formatted\\\" title=\\\"\\\"><span class=\\\"numbers\\\">100.000</span></span>\",\"<span class=\\\"formatted\\\" title=\\\"\\\"><span class=\\\"numbers\\\">100.000</span></span>\",\"<span class=\\\"formatted\\\" title=\\\"\\\"><span class=\\\"numbers\\\">100.000</span></span>\",\"<span class=\\\"formatted\\\" title=\\\"\\\"><span class=\\\"numbers\\\">98.513</span></span>\",\"<span class=\\\"formatted\\\" title=\\\"\\\"><span class=\\\"numbers\\\">100.000</span></span>\",\"<span class=\\\"formatted\\\" title=\\\"\\\"><span class=\\\"numbers\\\">100.000</span></span>\",\"<span class=\\\"formatted\\\" title=\\\"\\\"><span class=\\\"numbers\\\">100.000</span></span>\"] }, \n",
       "{ name: \"<span title=\\\"trend: Double\\\">trend</span>\", children: [], rightAlign: true, values: [\"<span class=\\\"formatted\\\" title=\\\"\\\"><span class=\\\"numbers\\\">1881420010.091</span></span>\",\"<span class=\\\"formatted\\\" title=\\\"\\\"><span class=\\\"numbers\\\">1850669261.563</span></span>\",\"<span class=\\\"formatted\\\" title=\\\"\\\"><span class=\\\"numbers\\\">1748591975.025</span></span>\",\"<span class=\\\"formatted\\\" title=\\\"\\\"><span class=\\\"numbers\\\">1744954517.259</span></span>\",\"<span class=\\\"formatted\\\" title=\\\"\\\"><span class=\\\"numbers\\\">1810823533.405</span></span>\",\"<span class=\\\"formatted\\\" title=\\\"\\\"><span class=\\\"numbers\\\">1798932696.960</span></span>\",\"<span class=\\\"formatted\\\" title=\\\"\\\"><span class=\\\"numbers\\\">1797720145.714</span></span>\",\"<span class=\\\"formatted\\\" title=\\\"\\\"><span class=\\\"numbers\\\">1855807601.232</span></span>\",\"<span class=\\\"formatted\\\" title=\\\"\\\"><span class=\\\"numbers\\\">1850251626.032</span></span>\",\"<span class=\\\"formatted\\\" title=\\\"\\\"><span class=\\\"numbers\\\">1851789433.007</span></span>\",\"<span class=\\\"formatted\\\" title=\\\"\\\"><span class=\\\"numbers\\\">1852995264.676</span></span>\",\"<span class=\\\"formatted\\\" title=\\\"\\\"><span class=\\\"numbers\\\">1823886971.644</span></span>\",\"<span class=\\\"formatted\\\" title=\\\"\\\"><span class=\\\"numbers\\\">1824318900.188</span></span>\",\"<span class=\\\"formatted\\\" title=\\\"\\\"><span class=\\\"numbers\\\">1818087875.059</span></span>\",\"<span class=\\\"formatted\\\" title=\\\"\\\"><span class=\\\"numbers\\\">1822975206.546</span></span>\",\"<span class=\\\"formatted\\\" title=\\\"\\\"><span class=\\\"numbers\\\">1815888513.396</span></span>\",\"<span class=\\\"formatted\\\" title=\\\"\\\"><span class=\\\"numbers\\\">1810853446.096</span></span>\",\"<span class=\\\"formatted\\\" title=\\\"\\\"><span class=\\\"numbers\\\">1812948253.096</span></span>\",\"<span class=\\\"formatted\\\" title=\\\"\\\"><span class=\\\"numbers\\\">1764103709.626</span></span>\",\"<span class=\\\"formatted\\\" title=\\\"\\\"><span class=\\\"numbers\\\">1710283396.245</span></span>\"] }, \n",
       "{ name: \"<span title=\\\"next: String\\\">next</span>\", children: [], rightAlign: false, values: [\"NoN\",\"NoN\",\"NoN\",\"<span class=\\\"formatted\\\" title=\\\"20.75,20.25,19.379999,18.219999,17.950001,18.389999,18.57,19.0,18.1,18.68,19.34,18.559999\\\">20.75,20.25,19.379999,18.219999,17.95<span class=\\\"structural\\\">...</span></span>\",\"<span class=\\\"formatted\\\" title=\\\"24.700001,24.08,23.459999,23.23,20.75,20.889999,20.790001,21.129999,20.860001,20.629999,21.77,20.799999\\\">24.700001,24.08,23.459999,23.23,20.75<span class=\\\"structural\\\">...</span></span>\",\"<span class=\\\"formatted\\\" title=\\\"24.02,24.700001,24.08,23.459999,23.23,20.75,20.889999,20.790001,21.129999,20.860001,20.629999,21.77\\\">24.02,24.700001,24.08,23.459999,23.23<span class=\\\"structural\\\">...</span></span>\",\"<span class=\\\"formatted\\\" title=\\\"23.92,24.02,24.700001,24.08,23.459999,23.23,20.75,20.889999,20.790001,21.129999,20.860001,20.629999\\\">23.92,24.02,24.700001,24.08,23.459999<span class=\\\"structural\\\">...</span></span>\",\"<span class=\\\"formatted\\\" title=\\\"29.75,28.889999,27.700001,27.889999,28.049999,27.57,26.809999,26.73,28.870001,25.889999,24.280001,22.690001\\\">29.75,28.889999,27.700001,27.889999,2<span class=\\\"structural\\\">...</span></span>\",\"<span class=\\\"formatted\\\" title=\\\"29.049999,29.75,28.889999,27.700001,27.889999,28.049999,27.57,26.809999,26.73,28.870001,25.889999,24.280001\\\">29.049999,29.75,28.889999,27.700001,2<span class=\\\"structural\\\">...</span></span>\",\"<span class=\\\"formatted\\\" title=\\\"29.200001,29.049999,29.75,28.889999,27.700001,27.889999,28.049999,27.57,26.809999,26.73,28.870001,25.889999\\\">29.200001,29.049999,29.75,28.889999,2<span class=\\\"structural\\\">...</span></span>\",\"<span class=\\\"formatted\\\" title=\\\"29.309999,29.200001,29.049999,29.75,28.889999,27.700001,27.889999,28.049999,27.57,26.809999,26.73,28.870001\\\">29.309999,29.200001,29.049999,29.75,2<span class=\\\"structural\\\">...</span></span>\",\"<span class=\\\"formatted\\\" title=\\\"28.870001,26.99,29.309999,29.200001,29.049999,29.75,28.889999,27.700001,27.889999,28.049999,27.57,26.809999\\\">28.870001,26.99,29.309999,29.200001,2<span class=\\\"structural\\\">...</span></span>\",\"<span class=\\\"formatted\\\" title=\\\"28.91,28.870001,26.99,29.309999,29.200001,29.049999,29.75,28.889999,27.700001,27.889999,28.049999,27.57\\\">28.91,28.870001,26.99,29.309999,29.20<span class=\\\"structural\\\">...</span></span>\",\"<span class=\\\"formatted\\\" title=\\\"28.440001,28.91,28.870001,26.99,29.309999,29.200001,29.049999,29.75,28.889999,27.700001,27.889999,28.049999\\\">28.440001,28.91,28.870001,26.99,29.30<span class=\\\"structural\\\">...</span></span>\",\"<span class=\\\"formatted\\\" title=\\\"28.040001,26.32,24.0,23.290001,24.07,24.49,25.870001,26.27,27.110001,27.34,28.440001,28.91\\\">28.040001,26.32,24.0,23.290001,24.07,<span class=\\\"structural\\\">...</span></span>\",\"<span class=\\\"formatted\\\" title=\\\"27.389999,28.040001,26.32,24.0,23.290001,24.07,24.49,25.870001,26.27,27.110001,27.34,28.440001\\\">27.389999,28.040001,26.32,24.0,23.290<span class=\\\"structural\\\">...</span></span>\",\"<span class=\\\"formatted\\\" title=\\\"26.93,27.389999,28.040001,26.32,24.0,23.290001,24.07,24.49,25.870001,26.27,27.110001,27.34\\\">26.93,27.389999,28.040001,26.32,24.0,<span class=\\\"structural\\\">...</span></span>\",\"<span class=\\\"formatted\\\" title=\\\"27.1,26.93,27.389999,28.040001,26.32,24.0,23.290001,24.07,24.49,25.870001,26.27,27.110001\\\">27.1,26.93,27.389999,28.040001,26.32,<span class=\\\"structural\\\">...</span></span>\",\"<span class=\\\"formatted\\\" title=\\\"24.540001,27.1,26.93,27.389999,28.040001,26.32,24.0,23.290001,24.07,24.49,25.870001,26.27\\\">24.540001,27.1,26.93,27.389999,28.040<span class=\\\"structural\\\">...</span></span>\",\"<span class=\\\"formatted\\\" title=\\\"22.51,24.540001,27.1,26.93,27.389999,28.040001,26.32,24.0,23.290001,24.07,24.49,25.870001\\\">22.51,24.540001,27.1,26.93,27.389999,<span class=\\\"structural\\\">...</span></span>\"] }, \n",
       "], id: -1811939322, rootId: -1811939322 } ) });\n",
       "/*-->*/\n",
       "\n",
       "call_DataFrame(function() { DataFrame.renderTable(-1811939322) });\n",
       "\n",
       "\n",
       "        </script>\n",
       "        </html>"
      ]
     },
     "execution_count": 17,
     "metadata": {},
     "output_type": "execute_result"
    }
   ],
   "source": [
    "val winClose = (0..df.rowsCount()-1).map{df[it].close}\n",
    "                        .windowed(size = 12, step = 1) // window size = 12\n",
    "                        .map{it.joinToString(\",\")} + List(11, {\"NoN\"}) // windowSize-1 = 11\n",
    "\n",
    "val nextCol = winClose.toColumn(\"next\", Infer.Nulls)\n",
    "\n",
    "df.add(nextCol)\n",
    "\n",
    "val dfNew = df+nextCol\n",
    "dfNew.columnNames()\n",
    "//dfNew.select{next}\n",
    "dfNew[\"date\", \"close\",\"delta\",\"stochastic\",\"trend\",\"next\"]\n",
    "            .filter{stochastic>95}\n",
    "            .sortBy { date.desc() }\n",
    "\n",
    "//dfNew.filter{stochastic>95}.select {date and close and delta and trend and stochastic and next}\n",
    "\n"
   ]
  },
  {
   "cell_type": "code",
   "execution_count": null,
   "id": "d9424003-38ce-4e10-b60b-98a3e77d4652",
   "metadata": {},
   "outputs": [],
   "source": []
  },
  {
   "cell_type": "code",
   "execution_count": null,
   "id": "1a19f778-3baa-4ec5-9770-7f6ab8f07d7c",
   "metadata": {},
   "outputs": [],
   "source": []
  }
 ],
 "metadata": {
  "kernelspec": {
   "display_name": "Kotlin",
   "language": "kotlin",
   "name": "kotlin"
  },
  "language_info": {
   "codemirror_mode": "text/x-kotlin",
   "file_extension": ".kt",
   "mimetype": "text/x-kotlin",
   "name": "kotlin",
   "nbconvert_exporter": "",
   "pygments_lexer": "kotlin",
   "version": "1.6.20-dev-6372"
  }
 },
 "nbformat": 4,
 "nbformat_minor": 5
}
